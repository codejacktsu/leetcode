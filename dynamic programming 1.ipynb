{
 "cells": [
  {
   "cell_type": "code",
   "execution_count": 2,
   "outputs": [],
   "source": [
    "import collections\n",
    "import unittest"
   ],
   "metadata": {
    "collapsed": false,
    "pycharm": {
     "name": "#%%\n"
    }
   }
  },
  {
   "cell_type": "code",
   "execution_count": 3,
   "outputs": [],
   "source": [
    "class Testing(unittest.TestCase):\n",
    "    def test(self, answer, solution):\n",
    "        self.assertEqual(answer, solution)"
   ],
   "metadata": {
    "collapsed": false,
    "pycharm": {
     "name": "#%%\n"
    }
   }
  },
  {
   "cell_type": "markdown",
   "source": [
    "### Day 1"
   ],
   "metadata": {
    "collapsed": false
   }
  },
  {
   "cell_type": "code",
   "execution_count": 13,
   "outputs": [],
   "source": [
    "# Fibonacci Number (Easy)\n",
    "\n",
    "class Solution:\n",
    "    def fib(self, n: int) -> int:\n",
    "        if n <= 1:\n",
    "            return n\n",
    "        first, second = 0, 1\n",
    "        for i in range(n-1):\n",
    "            first, second = second, first + second\n",
    "        return second\n",
    "\n",
    "Testing().test(Solution().fib(2),1)\n",
    "Testing().test(Solution().fib(3),2)\n",
    "Testing().test(Solution().fib(4),3)\n",
    "Testing().test(Solution().fib(10),55)"
   ],
   "metadata": {
    "collapsed": false,
    "pycharm": {
     "name": "#%%\n"
    }
   }
  },
  {
   "cell_type": "code",
   "execution_count": 14,
   "outputs": [],
   "source": [
    "# N-th Tribonacci Number (Easy)\n",
    "\n",
    "class Solution:\n",
    "    def tribonacci(self, n: int) -> int:\n",
    "        if n <= 1:\n",
    "            return n\n",
    "        elif n == 2:\n",
    "            return 1\n",
    "        first, second, third = 0, 1, 1\n",
    "        for i in range(3, n+1):\n",
    "            first, second, third = second, third, first + second + third\n",
    "        return third\n",
    "\n",
    "Testing().test(Solution().tribonacci(4),4)\n",
    "Testing().test(Solution().tribonacci(25),1389537)"
   ],
   "metadata": {
    "collapsed": false,
    "pycharm": {
     "name": "#%%\n"
    }
   }
  },
  {
   "cell_type": "markdown",
   "source": [
    "### Day 2"
   ],
   "metadata": {
    "collapsed": false,
    "pycharm": {
     "name": "#%% md\n"
    }
   }
  },
  {
   "cell_type": "code",
   "execution_count": 8,
   "outputs": [],
   "source": [
    "# Climbing Stairs (Easy)\n",
    "\n",
    "class Solution:\n",
    "    \"\"\"\n",
    "    Fibonacci sequence starting with F(0)=1, F(1)=1\n",
    "    \"\"\"\n",
    "    def climbStairs(self, n: int) -> int:\n",
    "        if n <= 3:\n",
    "            return n\n",
    "        first, second = 2, 3\n",
    "        for _ in range(4, n+1):\n",
    "            first, second = second, first + second\n",
    "        return second\n",
    "\n",
    "Testing().test(Solution().climbStairs(2),2)\n",
    "Testing().test(Solution().climbStairs(3),3)\n",
    "Testing().test(Solution().climbStairs(7),21)"
   ],
   "metadata": {
    "collapsed": false,
    "pycharm": {
     "name": "#%%\n"
    }
   }
  },
  {
   "cell_type": "code",
   "execution_count": 79,
   "outputs": [],
   "source": [
    "# Min Cost Climbing Stairs (Easy)\n",
    "\n",
    "class Solution:\n",
    "    def minCostClimbingStairs(self, cost) -> int:\n",
    "        down = up = 0\n",
    "        for i in range(2,len(cost)+1):\n",
    "            down, up = up, min(down + cost[i-2], up + cost[i-1])\n",
    "        return up\n",
    "\n",
    "Testing().test(Solution().minCostClimbingStairs([10,15,20]),15)\n",
    "Testing().test(Solution().minCostClimbingStairs([1,100,1,1,1,100,1,1,100,1]),6)\n",
    "Testing().test(Solution().minCostClimbingStairs([0,2,2,1]),2)\n",
    "Testing().test(Solution().minCostClimbingStairs([1,0,2,2]),2)"
   ],
   "metadata": {
    "collapsed": false,
    "pycharm": {
     "name": "#%%\n"
    }
   }
  },
  {
   "cell_type": "markdown",
   "source": [
    "### Day 3"
   ],
   "metadata": {
    "collapsed": false,
    "pycharm": {
     "name": "#%% md\n"
    }
   }
  },
  {
   "cell_type": "code",
   "execution_count": 7,
   "outputs": [],
   "source": [
    "# House Robber (Medium)\n",
    "\n",
    "class Solution:\n",
    "    def rob(self, nums) -> int:\n",
    "        \"\"\"\n",
    "        Time: O(N)\n",
    "        Space: O(1)\n",
    "        Solve: 1h\n",
    "        \"\"\"\n",
    "        curr, prev, prev2 = 0, 0, 0\n",
    "        for num in nums:\n",
    "            curr = max(prev, num + prev2)\n",
    "            prev2 = prev\n",
    "            prev = curr\n",
    "        return curr\n",
    "\n",
    "Testing().test(Solution().rob([1,2,3,1]),4)\n",
    "Testing().test(Solution().rob([2,7,9,3,1]),12)"
   ],
   "metadata": {
    "collapsed": false,
    "pycharm": {
     "name": "#%%\n"
    }
   }
  },
  {
   "cell_type": "code",
   "execution_count": 25,
   "outputs": [],
   "source": [
    "# House Robber II (Medium)\n",
    "\n",
    "class Solution:\n",
    "    def rob(self, nums) -> int:\n",
    "        \"\"\"\n",
    "        Time: O(N)\n",
    "        Space: O(1)\n",
    "        Solve:\n",
    "        \"\"\"\n",
    "        if len(nums) == 1:\n",
    "            return nums[0]\n",
    "        nums_list = [nums[1:], nums[:-1]]\n",
    "        best = 0\n",
    "        for nums in nums_list:\n",
    "            curr, prev, prev2 = 0, 0, 0\n",
    "            for num in nums:\n",
    "                curr = max(prev, num + prev2)\n",
    "                prev2 = prev\n",
    "                prev = curr\n",
    "            best = max(best, curr)\n",
    "        return best\n",
    "\n",
    "Testing().test(Solution().rob([2,3,2]),3)\n",
    "Testing().test(Solution().rob([1,2,3,1]),4)\n",
    "Testing().test(Solution().rob([1,2,3]),3)\n",
    "Testing().test(Solution().rob([1]),1)"
   ],
   "metadata": {
    "collapsed": false,
    "pycharm": {
     "name": "#%%\n"
    }
   }
  },
  {
   "cell_type": "code",
   "execution_count": 45,
   "outputs": [],
   "source": [
    "# Delete and Earn (Medium)\n",
    "\n",
    "from collections import Counter\n",
    "\n",
    "class Solution:\n",
    "    def deleteAndEarn(self, nums) -> int:\n",
    "        \"\"\"\n",
    "        Time:\n",
    "        Space:\n",
    "        Solve: 15m\n",
    "        \"\"\"\n",
    "        c = Counter(nums)\n",
    "        for key, value in c.items():\n",
    "            c[key] = key * value\n",
    "        for num in range(min(nums), max(nums)+1):\n",
    "            if num not in c:\n",
    "                c[num] = 0\n",
    "        c = sorted(c.items())\n",
    "        curr, prev, prev2 = 0, 0, 0\n",
    "        for num in c:\n",
    "            curr = max(prev, num[1] + prev2)\n",
    "            prev2 = prev\n",
    "            prev = curr\n",
    "        return curr\n",
    "\n",
    "Testing().test(Solution().deleteAndEarn([3,4,2]),6)\n",
    "Testing().test(Solution().deleteAndEarn([2,2,3,3,3,4]),9)"
   ],
   "metadata": {
    "collapsed": false,
    "pycharm": {
     "name": "#%%\n"
    }
   }
  },
  {
   "cell_type": "markdown",
   "source": [
    "### Day 4"
   ],
   "metadata": {
    "collapsed": false,
    "pycharm": {
     "name": "#%% md\n"
    }
   }
  },
  {
   "cell_type": "code",
   "execution_count": 56,
   "outputs": [],
   "source": [
    "# Jump Game (Medium)\n",
    "\n",
    "class Solution:\n",
    "    def canJump(self, nums) -> bool:\n",
    "        \"\"\"\n",
    "        Time:\n",
    "        Space:\n",
    "        Solve:\n",
    "        \"\"\"\n",
    "        pos = len(nums) - 1\n",
    "        for i in range(len(nums))[::-1]:\n",
    "            if nums[i] + i >= pos:\n",
    "                pos = i\n",
    "        return not pos\n",
    "\n",
    "Testing().test(Solution().canJump([2,3,1,1,4]),True)\n",
    "Testing().test(Solution().canJump([3,2,1,0,4]),False)"
   ],
   "metadata": {
    "collapsed": false,
    "pycharm": {
     "name": "#%%\n"
    }
   }
  },
  {
   "cell_type": "code",
   "execution_count": 77,
   "outputs": [],
   "source": [
    "# Jump Game II (Medium)\n",
    "\n",
    "class Solution:\n",
    "    def jump(self, nums) -> int:\n",
    "        \"\"\"\n",
    "        Time: O(N)\n",
    "        Space: O(1)\n",
    "        Solve:\n",
    "        \"\"\"\n",
    "        jumps = 0\n",
    "        left = right = 0\n",
    "        while right < len(nums) - 1:\n",
    "            jumps += 1\n",
    "            far = max([i + nums[i] for i in range(left, right + 1)])\n",
    "            left = right + 1\n",
    "            right = far\n",
    "        return jumps\n",
    "\n",
    "Testing().test(Solution().jump([2,3,1,1,4]),2)\n",
    "Testing().test(Solution().jump([2,3,0,1,4]),2)"
   ],
   "metadata": {
    "collapsed": false,
    "pycharm": {
     "name": "#%%\n"
    }
   }
  },
  {
   "cell_type": "markdown",
   "source": [
    "### Day 5"
   ],
   "metadata": {
    "collapsed": false,
    "pycharm": {
     "name": "#%% md\n"
    }
   }
  },
  {
   "cell_type": "code",
   "execution_count": 81,
   "outputs": [],
   "source": [
    "# Maximum Subarray (Easy)\n",
    "\n",
    "class Solution:\n",
    "    def maxSubArray(self, nums) -> int:\n",
    "        \"\"\"\n",
    "        Time: O(N)\n",
    "        Space: O(1)\n",
    "        Solve: 8M\n",
    "        \"\"\"\n",
    "        best_value = value = nums[0]\n",
    "        for i, num in enumerate(nums[1:]):\n",
    "            value = max(num, num + value)\n",
    "            best_value = max(best_value, value)\n",
    "        return best_value\n",
    "\n",
    "Testing().test(Solution().maxSubArray([-2,1,-3,4,-1,2,1,-5,4]),6)\n",
    "Testing().test(Solution().maxSubArray([1]),1)\n",
    "Testing().test(Solution().maxSubArray([5,4,-1,7,8]),23)"
   ],
   "metadata": {
    "collapsed": false,
    "pycharm": {
     "name": "#%%\n"
    }
   }
  },
  {
   "cell_type": "code",
   "execution_count": 84,
   "outputs": [],
   "source": [
    "# Maximum Sum Circular Subarray (Medium)\n",
    "\n",
    "class Solution:\n",
    "    def maxSubarraySumCircular(self, nums) -> int:\n",
    "        \"\"\"\n",
    "        Time: O(N)\n",
    "        Space: O(1)\n",
    "        Solve: 30m\n",
    "        \"\"\"\n",
    "        best_value = max_value = nums[0]\n",
    "        worst_value = min_value = nums[0]\n",
    "        total = nums[0]\n",
    "        for i, num in enumerate(nums[1:]):\n",
    "            total += num\n",
    "            max_value = max(num, max_value + num)\n",
    "            best_value = max(best_value, max_value)\n",
    "            min_value = min(num, min_value + num)\n",
    "            worst_value = min(worst_value, min_value)\n",
    "        return max(best_value, total-worst_value) if total != worst_value else best_value\n",
    "\n",
    "Testing().test(Solution().maxSubarraySumCircular([1,-2,3,-2]),3)\n",
    "Testing().test(Solution().maxSubarraySumCircular([5,-3,5]),10)\n",
    "Testing().test(Solution().maxSubarraySumCircular([-3,-2,-3]),-2)"
   ],
   "metadata": {
    "collapsed": false,
    "pycharm": {
     "name": "#%%\n"
    }
   }
  },
  {
   "cell_type": "markdown",
   "source": [
    "### Day 6"
   ],
   "metadata": {
    "collapsed": false,
    "pycharm": {
     "name": "#%% md\n"
    }
   }
  },
  {
   "cell_type": "code",
   "execution_count": null,
   "outputs": [],
   "source": [
    "# Maximum Product Subarray (Medium)"
   ],
   "metadata": {
    "collapsed": false,
    "pycharm": {
     "name": "#%%\n"
    }
   }
  },
  {
   "cell_type": "code",
   "execution_count": null,
   "outputs": [],
   "source": [
    "# Maximum Length of Subarray With Positive Product (Medium)"
   ],
   "metadata": {
    "collapsed": false,
    "pycharm": {
     "name": "#%%\n"
    }
   }
  }
 ],
 "metadata": {
  "kernelspec": {
   "display_name": "Python 3",
   "language": "python",
   "name": "python3"
  },
  "language_info": {
   "codemirror_mode": {
    "name": "ipython",
    "version": 2
   },
   "file_extension": ".py",
   "mimetype": "text/x-python",
   "name": "python",
   "nbconvert_exporter": "python",
   "pygments_lexer": "ipython2",
   "version": "2.7.6"
  }
 },
 "nbformat": 4,
 "nbformat_minor": 0
}