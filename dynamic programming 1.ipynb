{
 "cells": [
  {
   "cell_type": "code",
   "execution_count": 2,
   "outputs": [],
   "source": [
    "import unittest"
   ],
   "metadata": {
    "collapsed": false,
    "pycharm": {
     "name": "#%%\n"
    }
   }
  },
  {
   "cell_type": "code",
   "execution_count": 3,
   "outputs": [],
   "source": [
    "class Testing(unittest.TestCase):\n",
    "    def test(self, answer, solution):\n",
    "        self.assertEqual(answer, solution)"
   ],
   "metadata": {
    "collapsed": false,
    "pycharm": {
     "name": "#%%\n"
    }
   }
  },
  {
   "cell_type": "markdown",
   "source": [
    "### Day 1"
   ],
   "metadata": {
    "collapsed": false
   }
  },
  {
   "cell_type": "code",
   "execution_count": 13,
   "outputs": [],
   "source": [
    "# Fibonacci Number (Easy)\n",
    "\n",
    "class Solution:\n",
    "    def fib(self, n: int) -> int:\n",
    "        if n <= 1:\n",
    "            return n\n",
    "        first, second = 0, 1\n",
    "        for i in range(n-1):\n",
    "            first, second = second, first + second\n",
    "        return second\n",
    "\n",
    "Testing().test(Solution().fib(2),1)\n",
    "Testing().test(Solution().fib(3),2)\n",
    "Testing().test(Solution().fib(4),3)\n",
    "Testing().test(Solution().fib(10),55)"
   ],
   "metadata": {
    "collapsed": false,
    "pycharm": {
     "name": "#%%\n"
    }
   }
  },
  {
   "cell_type": "code",
   "execution_count": 14,
   "outputs": [],
   "source": [
    "# N-th Tribonacci Number (Easy)\n",
    "\n",
    "class Solution:\n",
    "    def tribonacci(self, n: int) -> int:\n",
    "        if n <= 1:\n",
    "            return n\n",
    "        elif n == 2:\n",
    "            return 1\n",
    "        first, second, third = 0, 1, 1\n",
    "        for i in range(3, n+1):\n",
    "            first, second, third = second, third, first + second + third\n",
    "        return third\n",
    "\n",
    "Testing().test(Solution().tribonacci(4),4)\n",
    "Testing().test(Solution().tribonacci(25),1389537)"
   ],
   "metadata": {
    "collapsed": false,
    "pycharm": {
     "name": "#%%\n"
    }
   }
  },
  {
   "cell_type": "markdown",
   "source": [
    "### Day 2"
   ],
   "metadata": {
    "collapsed": false,
    "pycharm": {
     "name": "#%% md\n"
    }
   }
  },
  {
   "cell_type": "code",
   "execution_count": 8,
   "outputs": [],
   "source": [
    "# Climbing Stairs (Easy)\n",
    "\n",
    "class Solution:\n",
    "    \"\"\"\n",
    "    Fibonacci sequence starting with F(0)=1, F(1)=1\n",
    "    \"\"\"\n",
    "    def climbStairs(self, n: int) -> int:\n",
    "        if n <= 3:\n",
    "            return n\n",
    "        first, second = 2, 3\n",
    "        for _ in range(4, n+1):\n",
    "            first, second = second, first + second\n",
    "        return second\n",
    "\n",
    "Testing().test(Solution().climbStairs(2),2)\n",
    "Testing().test(Solution().climbStairs(3),3)\n",
    "Testing().test(Solution().climbStairs(7),21)"
   ],
   "metadata": {
    "collapsed": false,
    "pycharm": {
     "name": "#%%\n"
    }
   }
  },
  {
   "cell_type": "code",
   "execution_count": 79,
   "outputs": [],
   "source": [
    "# Min Cost Climbing Stairs (Easy)\n",
    "\n",
    "class Solution:\n",
    "    def minCostClimbingStairs(self, cost) -> int:\n",
    "        down = up = 0\n",
    "        for i in range(2,len(cost)+1):\n",
    "            down, up = up, min(down + cost[i-2], up + cost[i-1])\n",
    "        return up\n",
    "\n",
    "Testing().test(Solution().minCostClimbingStairs([10,15,20]),15)\n",
    "Testing().test(Solution().minCostClimbingStairs([1,100,1,1,1,100,1,1,100,1]),6)\n",
    "Testing().test(Solution().minCostClimbingStairs([0,2,2,1]),2)\n",
    "Testing().test(Solution().minCostClimbingStairs([1,0,2,2]),2)"
   ],
   "metadata": {
    "collapsed": false,
    "pycharm": {
     "name": "#%%\n"
    }
   }
  },
  {
   "cell_type": "markdown",
   "source": [
    "### Day 3"
   ],
   "metadata": {
    "collapsed": false,
    "pycharm": {
     "name": "#%% md\n"
    }
   }
  },
  {
   "cell_type": "code",
   "execution_count": 7,
   "outputs": [],
   "source": [
    "# House Robber (Medium)\n",
    "\n",
    "class Solution:\n",
    "    def rob(self, nums) -> int:\n",
    "        \"\"\"\n",
    "        Time: O(N)\n",
    "        Space: O(1)\n",
    "        Solve: 1h\n",
    "        \"\"\"\n",
    "        curr, prev, prev2 = 0, 0, 0\n",
    "        for num in nums:\n",
    "            curr = max(prev, num + prev2)\n",
    "            prev2 = prev\n",
    "            prev = curr\n",
    "        return curr\n",
    "\n",
    "Testing().test(Solution().rob([1,2,3,1]),4)\n",
    "Testing().test(Solution().rob([2,7,9,3,1]),12)"
   ],
   "metadata": {
    "collapsed": false,
    "pycharm": {
     "name": "#%%\n"
    }
   }
  },
  {
   "cell_type": "code",
   "execution_count": 25,
   "outputs": [],
   "source": [
    "# House Robber II (Medium)\n",
    "\n",
    "class Solution:\n",
    "    def rob(self, nums) -> int:\n",
    "        \"\"\"\n",
    "        Time:\n",
    "        Space:\n",
    "        Solve:\n",
    "        \"\"\"\n",
    "        if len(nums) == 1:\n",
    "            return nums[0]\n",
    "        nums_list = [nums[1:], nums[:-1]]\n",
    "        best = 0\n",
    "        for nums in nums_list:\n",
    "            curr, prev, prev2 = 0, 0, 0\n",
    "            for num in nums:\n",
    "                curr = max(prev, num + prev2)\n",
    "                prev2 = prev\n",
    "                prev = curr\n",
    "            best = max(best, curr)\n",
    "        return best\n",
    "\n",
    "Testing().test(Solution().rob([2,3,2]),3)\n",
    "Testing().test(Solution().rob([1,2,3,1]),4)\n",
    "Testing().test(Solution().rob([1,2,3]),3)\n",
    "Testing().test(Solution().rob([1]),1)"
   ],
   "metadata": {
    "collapsed": false,
    "pycharm": {
     "name": "#%%\n"
    }
   }
  },
  {
   "cell_type": "code",
   "execution_count": null,
   "outputs": [],
   "source": [
    "# Delete and Earn (Medium)"
   ],
   "metadata": {
    "collapsed": false,
    "pycharm": {
     "name": "#%%\n"
    }
   }
  },
  {
   "cell_type": "markdown",
   "source": [
    "### Day 4"
   ],
   "metadata": {
    "collapsed": false,
    "pycharm": {
     "name": "#%% md\n"
    }
   }
  },
  {
   "cell_type": "code",
   "execution_count": null,
   "outputs": [],
   "source": [
    "# Jump Game (Medium)"
   ],
   "metadata": {
    "collapsed": false,
    "pycharm": {
     "name": "#%%\n"
    }
   }
  },
  {
   "cell_type": "code",
   "execution_count": null,
   "outputs": [],
   "source": [
    "# Jump Game II (Medium)"
   ],
   "metadata": {
    "collapsed": false,
    "pycharm": {
     "name": "#%%\n"
    }
   }
  }
 ],
 "metadata": {
  "kernelspec": {
   "display_name": "Python 3",
   "language": "python",
   "name": "python3"
  },
  "language_info": {
   "codemirror_mode": {
    "name": "ipython",
    "version": 2
   },
   "file_extension": ".py",
   "mimetype": "text/x-python",
   "name": "python",
   "nbconvert_exporter": "python",
   "pygments_lexer": "ipython2",
   "version": "2.7.6"
  }
 },
 "nbformat": 4,
 "nbformat_minor": 0
}