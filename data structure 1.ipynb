{
 "cells": [
  {
   "cell_type": "code",
   "execution_count": 1,
   "outputs": [],
   "source": [
    "import unittest"
   ],
   "metadata": {
    "collapsed": false,
    "pycharm": {
     "name": "#%%\n"
    }
   }
  },
  {
   "cell_type": "code",
   "execution_count": 2,
   "outputs": [],
   "source": [
    "class Testing(unittest.TestCase):\n",
    "    def test(self, answer, solution):\n",
    "        self.assertEqual(answer, solution)"
   ],
   "metadata": {
    "collapsed": false,
    "pycharm": {
     "name": "#%%\n"
    }
   }
  },
  {
   "cell_type": "markdown",
   "source": [
    "### Day 1 Array"
   ],
   "metadata": {
    "collapsed": false
   }
  },
  {
   "cell_type": "code",
   "execution_count": 4,
   "outputs": [
    {
     "data": {
      "text/plain": "True"
     },
     "execution_count": 4,
     "metadata": {},
     "output_type": "execute_result"
    }
   ],
   "source": [
    "# Contains Duplicate (Easy)\n",
    "\n",
    "nums = [1,2,3,1]\n",
    "\n",
    "class Solution:\n",
    "    def containsDuplicate(self, nums) -> bool:\n",
    "        return False if len(nums) == len(set(nums)) else True\n",
    "\n",
    "Solution().containsDuplicate(nums)"
   ],
   "metadata": {
    "collapsed": false,
    "pycharm": {
     "name": "#%%\n"
    }
   }
  },
  {
   "cell_type": "code",
   "execution_count": 10,
   "outputs": [
    {
     "data": {
      "text/plain": "6"
     },
     "execution_count": 10,
     "metadata": {},
     "output_type": "execute_result"
    }
   ],
   "source": [
    "# Maximum Subarray (Easy)\n",
    "\n",
    "nums = [-2,1,-3,4,-1,2,1,-5,4]\n",
    "\n",
    "class Solution:\n",
    "    def maxSubArray(self, nums) -> int:\n",
    "        count = best = nums[0]\n",
    "        for num in nums[1:]:\n",
    "            count = max(num, count+num)\n",
    "            best = max(count, best)\n",
    "        return best\n",
    "\n",
    "Solution().maxSubArray(nums)"
   ],
   "metadata": {
    "collapsed": false,
    "pycharm": {
     "name": "#%%\n"
    }
   }
  },
  {
   "cell_type": "markdown",
   "source": [
    "### Day 2 Array"
   ],
   "metadata": {
    "collapsed": false,
    "pycharm": {
     "name": "#%% md\n"
    }
   }
  },
  {
   "cell_type": "code",
   "execution_count": 10,
   "outputs": [],
   "source": [
    "# Two Sum (Easy)\n",
    "\n",
    "class Solution:\n",
    "    def twoSum(self, nums, target):\n",
    "        comps = {}\n",
    "        for i, num in enumerate(nums):\n",
    "            comp = target-num\n",
    "            if comp in comps:\n",
    "                return [i, comps[comp]]\n",
    "            comps[num] = i\n",
    "\n",
    "Testing().test(sorted(Solution().twoSum([2,7,11,15], 9)),[0,1])"
   ],
   "metadata": {
    "collapsed": false,
    "pycharm": {
     "name": "#%%\n"
    }
   }
  },
  {
   "cell_type": "code",
   "execution_count": null,
   "outputs": [],
   "source": [
    "# Merge Sorted Array (Easy)\n",
    "\n"
   ],
   "metadata": {
    "collapsed": false,
    "pycharm": {
     "name": "#%%\n"
    }
   }
  }
 ],
 "metadata": {
  "kernelspec": {
   "display_name": "Python 3",
   "language": "python",
   "name": "python3"
  },
  "language_info": {
   "codemirror_mode": {
    "name": "ipython",
    "version": 2
   },
   "file_extension": ".py",
   "mimetype": "text/x-python",
   "name": "python",
   "nbconvert_exporter": "python",
   "pygments_lexer": "ipython2",
   "version": "2.7.6"
  }
 },
 "nbformat": 4,
 "nbformat_minor": 0
}