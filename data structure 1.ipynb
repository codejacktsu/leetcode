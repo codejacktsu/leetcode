{
 "cells": [
  {
   "cell_type": "code",
   "execution_count": 1,
   "outputs": [],
   "source": [
    "import unittest"
   ],
   "metadata": {
    "collapsed": false,
    "pycharm": {
     "name": "#%%\n"
    }
   }
  },
  {
   "cell_type": "code",
   "execution_count": 2,
   "outputs": [],
   "source": [
    "class Testing(unittest.TestCase):\n",
    "    def test(self, answer, solution):\n",
    "        self.assertEqual(answer, solution)"
   ],
   "metadata": {
    "collapsed": false,
    "pycharm": {
     "name": "#%%\n"
    }
   }
  },
  {
   "cell_type": "markdown",
   "source": [
    "### Day 1 Array"
   ],
   "metadata": {
    "collapsed": false
   }
  },
  {
   "cell_type": "code",
   "execution_count": 4,
   "outputs": [
    {
     "data": {
      "text/plain": "True"
     },
     "execution_count": 4,
     "metadata": {},
     "output_type": "execute_result"
    }
   ],
   "source": [
    "# Contains Duplicate (Easy)\n",
    "\n",
    "nums = [1,2,3,1]\n",
    "\n",
    "class Solution:\n",
    "    def containsDuplicate(self, nums) -> bool:\n",
    "        return False if len(nums) == len(set(nums)) else True\n",
    "\n",
    "Solution().containsDuplicate(nums)"
   ],
   "metadata": {
    "collapsed": false,
    "pycharm": {
     "name": "#%%\n"
    }
   }
  },
  {
   "cell_type": "code",
   "execution_count": 10,
   "outputs": [
    {
     "data": {
      "text/plain": "6"
     },
     "execution_count": 10,
     "metadata": {},
     "output_type": "execute_result"
    }
   ],
   "source": [
    "# Maximum Subarray (Easy)\n",
    "\n",
    "nums = [-2,1,-3,4,-1,2,1,-5,4]\n",
    "\n",
    "class Solution:\n",
    "    def maxSubArray(self, nums) -> int:\n",
    "        count = best = nums[0]\n",
    "        for num in nums[1:]:\n",
    "            count = max(num, count+num)\n",
    "            best = max(count, best)\n",
    "        return best\n",
    "\n",
    "Solution().maxSubArray(nums)"
   ],
   "metadata": {
    "collapsed": false,
    "pycharm": {
     "name": "#%%\n"
    }
   }
  },
  {
   "cell_type": "markdown",
   "source": [
    "### Day 2 Array"
   ],
   "metadata": {
    "collapsed": false,
    "pycharm": {
     "name": "#%% md\n"
    }
   }
  },
  {
   "cell_type": "code",
   "execution_count": 10,
   "outputs": [],
   "source": [
    "# Two Sum (Easy)\n",
    "\n",
    "class Solution:\n",
    "    def twoSum(self, nums, target):\n",
    "        comps = {}\n",
    "        for i, num in enumerate(nums):\n",
    "            comp = target-num\n",
    "            if comp in comps:\n",
    "                return [i, comps[comp]]\n",
    "            comps[num] = i\n",
    "\n",
    "Testing().test(sorted(Solution().twoSum([2,7,11,15], 9)),[0,1])"
   ],
   "metadata": {
    "collapsed": false,
    "pycharm": {
     "name": "#%%\n"
    }
   }
  },
  {
   "cell_type": "code",
   "execution_count": 60,
   "outputs": [],
   "source": [
    "# Merge Sorted Array (Easy)\n",
    "\n",
    "class Solution:\n",
    "    def merge(self, nums1, m: int, nums2, n: int) -> None:\n",
    "        \"\"\"\n",
    "        Do not return anything, modify nums1 in-place instead.\n",
    "        \"\"\"\n",
    "        nums1[:] = nums1[:m]\n",
    "        ans = []\n",
    "        while len(ans) != (m+n):\n",
    "            if not nums1:\n",
    "                ans += nums2\n",
    "            elif not nums2:\n",
    "                ans += nums1\n",
    "            else:\n",
    "                if nums1[0] > nums2[0]:\n",
    "                    ans.append(nums2.pop(0))\n",
    "                elif nums1[0] < nums2[0]:\n",
    "                    ans.append(nums1.pop(0))\n",
    "                else:\n",
    "                    ans.append(nums2.pop(0))\n",
    "        nums1[:] = ans\n",
    "\n",
    "    def merge2(self, nums1, m: int, nums2, n: int) -> None:\n",
    "        nums1[:] = nums1[:m]\n",
    "        if m == 0:\n",
    "            nums1[:] = nums2[:]\n",
    "        elif n == 0:\n",
    "            nums1[:] = nums1[:m]\n",
    "\n",
    "        for i in range(m+n):\n",
    "            if i == len(nums1):\n",
    "                nums1 += nums2\n",
    "                break\n",
    "            if nums1[i] > nums2[0]:\n",
    "                nums1.insert(i, nums2.pop(0))\n",
    "\n",
    "    def merge3(self, nums1, m: int, nums2, n: int) -> None:\n",
    "        if m == 0:\n",
    "            nums1[:] = nums2\n",
    "            return\n",
    "        elif n == 0:\n",
    "            return\n",
    "        p1, p2 = m - 1, n - 1\n",
    "        for i in range(m+n-1, -1, -1):\n",
    "            if nums2[p2] > nums1[p1] and p2 >= 0 or p1 < 0:\n",
    "                nums1[i] = nums2[p2]\n",
    "                p2 -= 1\n",
    "            else:\n",
    "                nums1[i] = nums1[p1]\n",
    "                p1 -= 1\n",
    "\n",
    "    def merge4(self, nums1, m: int, nums2, n: int) -> None:\n",
    "        p1, p2 = m - 1, n - 1\n",
    "        for i in range(m+n-1, -1, -1):\n",
    "            if p2 < 0:\n",
    "                break\n",
    "            if p1 >= 0 and nums1[p1] > nums2[p2]:\n",
    "                nums1[i] = nums1[p1]\n",
    "                p1 -= 1\n",
    "            else:\n",
    "                nums1[i] = nums2[p2]\n",
    "                p2 -= 1\n",
    "\n",
    "    def merge5(self, nums1, m: int, nums2, n: int) -> None:\n",
    "        \"\"\"\n",
    "        Tim sort takes advantage of presorts\n",
    "        :param nums1:\n",
    "        :param m:\n",
    "        :param nums2:\n",
    "        :param n:\n",
    "        :return:\n",
    "        \"\"\"\n",
    "        nums1[:] = sorted(nums1[:m] + nums2)\n",
    "\n",
    "nums1, m = [1,2,3,0,0,0], 3\n",
    "nums2, n = [2,5,6], 3\n",
    "Solution().merge5(nums1, m, nums2, n)\n",
    "Testing().test(nums1,[1,2,2,3,5,6])"
   ],
   "metadata": {
    "collapsed": false,
    "pycharm": {
     "name": "#%%\n"
    }
   }
  },
  {
   "cell_type": "markdown",
   "source": [
    "### Day 3 Array"
   ],
   "metadata": {
    "collapsed": false,
    "pycharm": {
     "name": "#%% md\n"
    }
   }
  },
  {
   "cell_type": "code",
   "execution_count": 15,
   "outputs": [],
   "source": [
    "# Intersection of Two Arrays II (Easy)\n",
    "\n",
    "class Solution:\n",
    "    def intersect(self, nums1, nums2):\n",
    "        \"\"\"\n",
    "\n",
    "        Time:\n",
    "        Space:\n",
    "        Solve: 20m\n",
    "        \"\"\"\n",
    "        intersect = []\n",
    "        for num in nums1:\n",
    "            if num in nums2:\n",
    "                nums2.remove(num)\n",
    "                intersect.append(num)\n",
    "        return intersect\n",
    "\n",
    "Testing().test(Solution().intersect([1,2,2,1], [2,2]),[2,2])\n",
    "Testing().test(Solution().intersect([4,9,5], [9,4,9,8,4]),[4,9])\n",
    "Testing().test(Solution().intersect([4,7,9,7,6,7], [5,0,0,6,1,6,2,2,4]),[4,6])"
   ],
   "metadata": {
    "collapsed": false,
    "pycharm": {
     "name": "#%%\n"
    }
   }
  },
  {
   "cell_type": "code",
   "execution_count": 21,
   "outputs": [],
   "source": [
    "# Best Time to Buy and Sell Stock (Easy)\n",
    "\n",
    "class Solution:\n",
    "    def maxProfit(self, prices) -> int:\n",
    "        \"\"\"\n",
    "        Time: O(N)\n",
    "        Space: O(1)\n",
    "        Solve: 17M\n",
    "        \"\"\"\n",
    "        buy = prices[0]\n",
    "        profit = 0\n",
    "        for price in prices[1:]:\n",
    "            if price < buy:\n",
    "                buy = price\n",
    "            else:\n",
    "                profit = max(profit, price - buy)\n",
    "        return profit\n",
    "\n",
    "Testing().test(Solution().maxProfit([7,1,5,3,6,4]), 5)\n",
    "Testing().test(Solution().maxProfit([7,6,4,3,1]), 0)\n",
    "Testing().test(Solution().maxProfit([2,4,1]), 2)"
   ],
   "metadata": {
    "collapsed": false,
    "pycharm": {
     "name": "#%%\n"
    }
   }
  },
  {
   "cell_type": "markdown",
   "source": [
    "### Day 4 Array"
   ],
   "metadata": {
    "collapsed": false,
    "pycharm": {
     "name": "#%% md\n"
    }
   }
  },
  {
   "cell_type": "code",
   "execution_count": 68,
   "outputs": [],
   "source": [
    "# Reshape the Matrix (Easy)\n",
    "\n",
    "class Solution:\n",
    "    def matrixReshape(self, mat, r: int, c: int):\n",
    "        \"\"\"\n",
    "        Time:\n",
    "        Space:\n",
    "        Solve: 17M\n",
    "        \"\"\"\n",
    "        h, w = len(mat), len(mat[0])\n",
    "        if h*w != r*c:\n",
    "            return mat\n",
    "\n",
    "        rmat = []\n",
    "        flatten = [ele for row in mat for ele in row]\n",
    "        for i in range(r):\n",
    "            start_idx = i * c\n",
    "            end_idx = start_idx + c\n",
    "            rmat.append(flatten[start_idx:end_idx])\n",
    "        return rmat\n",
    "\n",
    "    def matrixReshape(self, mat, r: int, c: int):\n",
    "        \"\"\"\n",
    "        built-in\n",
    "        Time:\n",
    "        Space:\n",
    "        Solve:\n",
    "        \"\"\"\n",
    "        flatten = sum(mat, [])\n",
    "        if len(flatten) != r * c:\n",
    "            return mat\n",
    "        return list(map(list, zip(*([iter(flatten)] * c))))\n",
    "\n",
    "Testing().test(Solution().matrixReshape([[1,2],[3,4]], 1, 4), [[1,2,3,4]])\n",
    "Testing().test(Solution().matrixReshape([[1,2],[3,4]], 2, 4), [[1,2],[3,4]])"
   ],
   "metadata": {
    "collapsed": false,
    "pycharm": {
     "name": "#%%\n"
    }
   }
  },
  {
   "cell_type": "code",
   "execution_count": 66,
   "outputs": [
    {
     "data": {
      "text/plain": "[(1,), (2,), (3,), (4,)]"
     },
     "execution_count": 66,
     "metadata": {},
     "output_type": "execute_result"
    }
   ],
   "source": [
    "# Pascal's Triangle (Easy)\n",
    "\n",
    "class Solution:\n",
    "    def generate(self, numRows: int):\n",
    "        \"\"\"\n",
    "        Time:\n",
    "        Space:\n",
    "        Solve:\n",
    "        \"\"\"\n",
    "        pass\n",
    "\n",
    "Testing().test(Solution().generate([[1,2],[3,4]], 1, 4), [[1,2,3,4]])\n",
    "Testing().test(Solution().generate([[1,2],[3,4]], 2, 4), [[1,2],[3,4]])"
   ],
   "metadata": {
    "collapsed": false,
    "pycharm": {
     "name": "#%%\n"
    }
   }
  }
 ],
 "metadata": {
  "kernelspec": {
   "display_name": "Python 3",
   "language": "python",
   "name": "python3"
  },
  "language_info": {
   "codemirror_mode": {
    "name": "ipython",
    "version": 2
   },
   "file_extension": ".py",
   "mimetype": "text/x-python",
   "name": "python",
   "nbconvert_exporter": "python",
   "pygments_lexer": "ipython2",
   "version": "2.7.6"
  }
 },
 "nbformat": 4,
 "nbformat_minor": 0
}