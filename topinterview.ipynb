{
 "cells": [
  {
   "cell_type": "code",
   "execution_count": 1,
   "metadata": {
    "collapsed": true
   },
   "outputs": [],
   "source": [
    "import unittest"
   ]
  },
  {
   "cell_type": "code",
   "execution_count": 2,
   "outputs": [],
   "source": [
    "class Testing(unittest.TestCase):\n",
    "    def test(self, answer, solution):\n",
    "        self.assertEqual(answer, solution)"
   ],
   "metadata": {
    "collapsed": false,
    "pycharm": {
     "name": "#%%\n"
    }
   }
  },
  {
   "cell_type": "code",
   "execution_count": 5,
   "outputs": [],
   "source": [
    "# Two Sum (Easy)\n",
    "\n",
    "class Solution:\n",
    "    def twoSum(self, nums, target: int):\n",
    "        comps = {}\n",
    "        for i, num in enumerate(nums):\n",
    "            comp = target - num\n",
    "            if comp in comps:\n",
    "                return [i, comps[comp]]\n",
    "            else:\n",
    "                comps[num] = i\n",
    "\n",
    "Testing().test(sorted(Solution().twoSum([2,7,11,15], 9)),[0,1])"
   ],
   "metadata": {
    "collapsed": false,
    "pycharm": {
     "name": "#%%\n"
    }
   }
  },
  {
   "cell_type": "code",
   "execution_count": 30,
   "outputs": [],
   "source": [
    "# Add Two Numbers (Medium)\n",
    "\n",
    "class ListNode:\n",
    "    def __init__(self, val=0, next=None):\n",
    "        self.val = val\n",
    "        self.next = next\n",
    "\n",
    "class Solution:\n",
    "    def addTwoNumbers(self, l1, l2):\n",
    "        p, q = l1, l2\n",
    "        carry = 0\n",
    "        head_node = ListNode()\n",
    "        prev_node = head_node\n",
    "\n",
    "        while p or q or carry:\n",
    "            x = p.val if p else 0\n",
    "            y = q.val if q else 0\n",
    "            add = x + y + carry\n",
    "            carry = 1 if add >= 10 else 0\n",
    "            cur_node = ListNode(val=add%10)\n",
    "            prev_node.next = prev_node = cur_node\n",
    "            p = p.next if p else 0\n",
    "            q = q.next if q else 0\n",
    "        return head_node.next"
   ],
   "metadata": {
    "collapsed": false,
    "pycharm": {
     "name": "#%%\n"
    }
   }
  },
  {
   "cell_type": "code",
   "execution_count": 55,
   "outputs": [],
   "source": [
    "# Longest Substring Without Repeating Characters (Medium)\n",
    "\n",
    "class Solution:\n",
    "    def lengthOfLongestSubstring(self, s: str) -> int:\n",
    "        best, stop = 0, 0\n",
    "        char_pos = {}\n",
    "        for i, string in enumerate(s):\n",
    "            if string in char_pos:\n",
    "                stop = max(stop, char_pos[string] + 1)\n",
    "            best = max(best, i - stop + 1)\n",
    "            char_pos[string] = i\n",
    "        return best\n",
    "\n",
    "Testing().test(Solution().lengthOfLongestSubstring(\"abba\"),2)\n",
    "Testing().test(Solution().lengthOfLongestSubstring(\"aba  \"),3)\n",
    "Testing().test(Solution().lengthOfLongestSubstring(\" \"),1)\n",
    "Testing().test(Solution().lengthOfLongestSubstring(\"abcabcbb\"),3)\n",
    "Testing().test(Solution().lengthOfLongestSubstring(\"bbbbb\"),1)\n",
    "Testing().test(Solution().lengthOfLongestSubstring(\"pwwkew\"),3)"
   ],
   "metadata": {
    "collapsed": false,
    "pycharm": {
     "name": "#%%\n"
    }
   }
  },
  {
   "cell_type": "code",
   "execution_count": 59,
   "outputs": [],
   "source": [
    "# Median of Two Sorted Arrays (Hard)\n",
    "\n",
    "class Solution:\n",
    "    \"\"\"\n",
    "    Time: O(nlogn) Tim Sort\n",
    "    Space: O(n)\n",
    "    Solve time: 5 minutes\n",
    "    \"\"\"\n",
    "    def findMedianSortedArrays(self, nums1, nums2) -> float:\n",
    "        nums = sorted(nums1+nums2)\n",
    "        mid = len(nums) // 2\n",
    "        if len(nums) % 2 == 0:\n",
    "            return (nums[mid] + nums[mid-1])/2\n",
    "        else:\n",
    "            return nums[mid]\n",
    "\n",
    "Testing().test(Solution().findMedianSortedArrays([1,3],[2]),2.00000)\n",
    "Testing().test(Solution().findMedianSortedArrays([1,2],[3,4]),2.50000)"
   ],
   "metadata": {
    "collapsed": false,
    "pycharm": {
     "name": "#%%\n"
    }
   }
  },
  {
   "cell_type": "code",
   "execution_count": 60,
   "outputs": [
    {
     "ename": "AssertionError",
     "evalue": "None != 'bab'",
     "output_type": "error",
     "traceback": [
      "\u001B[1;31m---------------------------------------------------------------------------\u001B[0m",
      "\u001B[1;31mAssertionError\u001B[0m                            Traceback (most recent call last)",
      "\u001B[1;32m<ipython-input-60-5e7b22ad6d9f>\u001B[0m in \u001B[0;36m<module>\u001B[1;34m\u001B[0m\n\u001B[0;32m      5\u001B[0m         \u001B[1;32mpass\u001B[0m\u001B[1;33m\u001B[0m\u001B[1;33m\u001B[0m\u001B[0m\n\u001B[0;32m      6\u001B[0m \u001B[1;33m\u001B[0m\u001B[0m\n\u001B[1;32m----> 7\u001B[1;33m \u001B[0mTesting\u001B[0m\u001B[1;33m(\u001B[0m\u001B[1;33m)\u001B[0m\u001B[1;33m.\u001B[0m\u001B[0mtest\u001B[0m\u001B[1;33m(\u001B[0m\u001B[0mSolution\u001B[0m\u001B[1;33m(\u001B[0m\u001B[1;33m)\u001B[0m\u001B[1;33m.\u001B[0m\u001B[0mlongestPalindrome\u001B[0m\u001B[1;33m(\u001B[0m\u001B[1;34m\"babad\"\u001B[0m\u001B[1;33m)\u001B[0m\u001B[1;33m,\u001B[0m\u001B[1;34m\"bab\"\u001B[0m\u001B[1;33m)\u001B[0m\u001B[1;33m\u001B[0m\u001B[1;33m\u001B[0m\u001B[0m\n\u001B[0m\u001B[0;32m      8\u001B[0m \u001B[0mTesting\u001B[0m\u001B[1;33m(\u001B[0m\u001B[1;33m)\u001B[0m\u001B[1;33m.\u001B[0m\u001B[0mtest\u001B[0m\u001B[1;33m(\u001B[0m\u001B[0mSolution\u001B[0m\u001B[1;33m(\u001B[0m\u001B[1;33m)\u001B[0m\u001B[1;33m.\u001B[0m\u001B[0mlongestPalindrome\u001B[0m\u001B[1;33m(\u001B[0m\u001B[1;34m\"cbbd\"\u001B[0m\u001B[1;33m)\u001B[0m\u001B[1;33m,\u001B[0m\u001B[1;34m\"bb\"\u001B[0m\u001B[1;33m)\u001B[0m\u001B[1;33m\u001B[0m\u001B[1;33m\u001B[0m\u001B[0m\n",
      "\u001B[1;32m<ipython-input-2-8f96391de350>\u001B[0m in \u001B[0;36mtest\u001B[1;34m(self, answer, solution)\u001B[0m\n\u001B[0;32m      1\u001B[0m \u001B[1;32mclass\u001B[0m \u001B[0mTesting\u001B[0m\u001B[1;33m(\u001B[0m\u001B[0munittest\u001B[0m\u001B[1;33m.\u001B[0m\u001B[0mTestCase\u001B[0m\u001B[1;33m)\u001B[0m\u001B[1;33m:\u001B[0m\u001B[1;33m\u001B[0m\u001B[1;33m\u001B[0m\u001B[0m\n\u001B[0;32m      2\u001B[0m     \u001B[1;32mdef\u001B[0m \u001B[0mtest\u001B[0m\u001B[1;33m(\u001B[0m\u001B[0mself\u001B[0m\u001B[1;33m,\u001B[0m \u001B[0manswer\u001B[0m\u001B[1;33m,\u001B[0m \u001B[0msolution\u001B[0m\u001B[1;33m)\u001B[0m\u001B[1;33m:\u001B[0m\u001B[1;33m\u001B[0m\u001B[1;33m\u001B[0m\u001B[0m\n\u001B[1;32m----> 3\u001B[1;33m         \u001B[0mself\u001B[0m\u001B[1;33m.\u001B[0m\u001B[0massertEqual\u001B[0m\u001B[1;33m(\u001B[0m\u001B[0manswer\u001B[0m\u001B[1;33m,\u001B[0m \u001B[0msolution\u001B[0m\u001B[1;33m)\u001B[0m\u001B[1;33m\u001B[0m\u001B[1;33m\u001B[0m\u001B[0m\n\u001B[0m",
      "\u001B[1;32m~\\anaconda3\\lib\\unittest\\case.py\u001B[0m in \u001B[0;36massertEqual\u001B[1;34m(self, first, second, msg)\u001B[0m\n\u001B[0;32m    910\u001B[0m         \"\"\"\n\u001B[0;32m    911\u001B[0m         \u001B[0massertion_func\u001B[0m \u001B[1;33m=\u001B[0m \u001B[0mself\u001B[0m\u001B[1;33m.\u001B[0m\u001B[0m_getAssertEqualityFunc\u001B[0m\u001B[1;33m(\u001B[0m\u001B[0mfirst\u001B[0m\u001B[1;33m,\u001B[0m \u001B[0msecond\u001B[0m\u001B[1;33m)\u001B[0m\u001B[1;33m\u001B[0m\u001B[1;33m\u001B[0m\u001B[0m\n\u001B[1;32m--> 912\u001B[1;33m         \u001B[0massertion_func\u001B[0m\u001B[1;33m(\u001B[0m\u001B[0mfirst\u001B[0m\u001B[1;33m,\u001B[0m \u001B[0msecond\u001B[0m\u001B[1;33m,\u001B[0m \u001B[0mmsg\u001B[0m\u001B[1;33m=\u001B[0m\u001B[0mmsg\u001B[0m\u001B[1;33m)\u001B[0m\u001B[1;33m\u001B[0m\u001B[1;33m\u001B[0m\u001B[0m\n\u001B[0m\u001B[0;32m    913\u001B[0m \u001B[1;33m\u001B[0m\u001B[0m\n\u001B[0;32m    914\u001B[0m     \u001B[1;32mdef\u001B[0m \u001B[0massertNotEqual\u001B[0m\u001B[1;33m(\u001B[0m\u001B[0mself\u001B[0m\u001B[1;33m,\u001B[0m \u001B[0mfirst\u001B[0m\u001B[1;33m,\u001B[0m \u001B[0msecond\u001B[0m\u001B[1;33m,\u001B[0m \u001B[0mmsg\u001B[0m\u001B[1;33m=\u001B[0m\u001B[1;32mNone\u001B[0m\u001B[1;33m)\u001B[0m\u001B[1;33m:\u001B[0m\u001B[1;33m\u001B[0m\u001B[1;33m\u001B[0m\u001B[0m\n",
      "\u001B[1;32m~\\anaconda3\\lib\\unittest\\case.py\u001B[0m in \u001B[0;36m_baseAssertEqual\u001B[1;34m(self, first, second, msg)\u001B[0m\n\u001B[0;32m    903\u001B[0m             \u001B[0mstandardMsg\u001B[0m \u001B[1;33m=\u001B[0m \u001B[1;34m'%s != %s'\u001B[0m \u001B[1;33m%\u001B[0m \u001B[0m_common_shorten_repr\u001B[0m\u001B[1;33m(\u001B[0m\u001B[0mfirst\u001B[0m\u001B[1;33m,\u001B[0m \u001B[0msecond\u001B[0m\u001B[1;33m)\u001B[0m\u001B[1;33m\u001B[0m\u001B[1;33m\u001B[0m\u001B[0m\n\u001B[0;32m    904\u001B[0m             \u001B[0mmsg\u001B[0m \u001B[1;33m=\u001B[0m \u001B[0mself\u001B[0m\u001B[1;33m.\u001B[0m\u001B[0m_formatMessage\u001B[0m\u001B[1;33m(\u001B[0m\u001B[0mmsg\u001B[0m\u001B[1;33m,\u001B[0m \u001B[0mstandardMsg\u001B[0m\u001B[1;33m)\u001B[0m\u001B[1;33m\u001B[0m\u001B[1;33m\u001B[0m\u001B[0m\n\u001B[1;32m--> 905\u001B[1;33m             \u001B[1;32mraise\u001B[0m \u001B[0mself\u001B[0m\u001B[1;33m.\u001B[0m\u001B[0mfailureException\u001B[0m\u001B[1;33m(\u001B[0m\u001B[0mmsg\u001B[0m\u001B[1;33m)\u001B[0m\u001B[1;33m\u001B[0m\u001B[1;33m\u001B[0m\u001B[0m\n\u001B[0m\u001B[0;32m    906\u001B[0m \u001B[1;33m\u001B[0m\u001B[0m\n\u001B[0;32m    907\u001B[0m     \u001B[1;32mdef\u001B[0m \u001B[0massertEqual\u001B[0m\u001B[1;33m(\u001B[0m\u001B[0mself\u001B[0m\u001B[1;33m,\u001B[0m \u001B[0mfirst\u001B[0m\u001B[1;33m,\u001B[0m \u001B[0msecond\u001B[0m\u001B[1;33m,\u001B[0m \u001B[0mmsg\u001B[0m\u001B[1;33m=\u001B[0m\u001B[1;32mNone\u001B[0m\u001B[1;33m)\u001B[0m\u001B[1;33m:\u001B[0m\u001B[1;33m\u001B[0m\u001B[1;33m\u001B[0m\u001B[0m\n",
      "\u001B[1;31mAssertionError\u001B[0m: None != 'bab'"
     ]
    }
   ],
   "source": [
    "# Longest Palindromic Substring (Medium)\n",
    "\n",
    "class Solution:\n",
    "    def longestPalindrome(self, s: str) -> str:\n",
    "        pass\n",
    "\n",
    "Testing().test(Solution().longestPalindrome(\"babad\"),\"bab\")\n",
    "Testing().test(Solution().longestPalindrome(\"cbbd\"),\"bb\")"
   ],
   "metadata": {
    "collapsed": false,
    "pycharm": {
     "name": "#%%\n"
    }
   }
  }
 ],
 "metadata": {
  "kernelspec": {
   "display_name": "Python 3",
   "language": "python",
   "name": "python3"
  },
  "language_info": {
   "codemirror_mode": {
    "name": "ipython",
    "version": 2
   },
   "file_extension": ".py",
   "mimetype": "text/x-python",
   "name": "python",
   "nbconvert_exporter": "python",
   "pygments_lexer": "ipython2",
   "version": "2.7.6"
  }
 },
 "nbformat": 4,
 "nbformat_minor": 0
}