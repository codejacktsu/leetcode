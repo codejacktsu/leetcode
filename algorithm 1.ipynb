{
 "cells": [
  {
   "cell_type": "code",
   "execution_count": 1,
   "outputs": [],
   "source": [
    "import unittest"
   ],
   "metadata": {
    "collapsed": false,
    "pycharm": {
     "name": "#%%\n"
    }
   }
  },
  {
   "cell_type": "code",
   "execution_count": 2,
   "outputs": [],
   "source": [
    "class Testing(unittest.TestCase):\n",
    "    def test(self, answer, solution):\n",
    "        self.assertEqual(answer, solution)"
   ],
   "metadata": {
    "collapsed": false,
    "pycharm": {
     "name": "#%%\n"
    }
   }
  },
  {
   "cell_type": "markdown",
   "source": [
    "### Day 1 Binary Search"
   ],
   "metadata": {
    "collapsed": false
   }
  },
  {
   "cell_type": "code",
   "execution_count": 24,
   "outputs": [
    {
     "data": {
      "text/plain": "4"
     },
     "execution_count": 24,
     "metadata": {},
     "output_type": "execute_result"
    }
   ],
   "source": [
    "# Binary Search (Easy)\n",
    "\n",
    "nums = [-1,0,3,5,9,12]\n",
    "target = 9\n",
    "\n",
    "class Solution:\n",
    "    def search(self, nums, target: int) -> int:\n",
    "        start, end = 0, len(nums)\n",
    "        while start != end:\n",
    "            mid = (start + end)//2\n",
    "            if target == nums[mid]:\n",
    "                return mid\n",
    "            elif target < nums[mid]:\n",
    "                end = mid\n",
    "            else:\n",
    "                start = mid + 1\n",
    "        return -1\n",
    "\n",
    "Solution().search(nums, target)"
   ],
   "metadata": {
    "collapsed": false,
    "pycharm": {
     "name": "#%%\n"
    }
   }
  },
  {
   "cell_type": "code",
   "execution_count": 38,
   "outputs": [
    {
     "data": {
      "text/plain": "4"
     },
     "execution_count": 38,
     "metadata": {},
     "output_type": "execute_result"
    }
   ],
   "source": [
    "# First Bad Version (Easy)\n",
    "\n",
    "n = 5\n",
    "bad = 4\n",
    "\n",
    "# API bool isBadVersion(version)\n",
    "def isBadVersion(ver):\n",
    "    return False if ver < bad else True\n",
    "\n",
    "class Solution:\n",
    "    def firstBadVersion(self, n):\n",
    "        start, end = 1, n\n",
    "        while start != end:\n",
    "            mid = (start + end)//2\n",
    "            if isBadVersion(mid):\n",
    "                end = mid\n",
    "            else:\n",
    "                start = mid + 1\n",
    "        return start\n",
    "\n",
    "Solution().firstBadVersion(n)"
   ],
   "metadata": {
    "collapsed": false,
    "pycharm": {
     "name": "#%%\n"
    }
   }
  },
  {
   "cell_type": "code",
   "execution_count": 43,
   "outputs": [
    {
     "data": {
      "text/plain": "2"
     },
     "execution_count": 43,
     "metadata": {},
     "output_type": "execute_result"
    }
   ],
   "source": [
    "# Search Insert Position (Easy)\n",
    "\n",
    "nums = [1,3,5,6]\n",
    "target = 4\n",
    "\n",
    "class Solution:\n",
    "    def searchInsert(self, nums, target: int) -> int:\n",
    "        start, end = 0, len(nums)\n",
    "        while start != end:\n",
    "            mid = (start + end)//2\n",
    "            if target == nums[mid]:\n",
    "                return mid\n",
    "            elif target < nums[mid]:\n",
    "                end = mid\n",
    "            else:\n",
    "                start = mid + 1\n",
    "        return start\n",
    "\n",
    "Solution().searchInsert(nums, target)"
   ],
   "metadata": {
    "collapsed": false,
    "pycharm": {
     "name": "#%%\n"
    }
   }
  },
  {
   "cell_type": "markdown",
   "source": [
    "### Day 2 Two Pointers"
   ],
   "metadata": {
    "collapsed": false,
    "pycharm": {
     "name": "#%% md\n"
    }
   }
  },
  {
   "cell_type": "code",
   "execution_count": 38,
   "outputs": [],
   "source": [
    "# Squares of a Sorted Array (Easy)\n",
    "\n",
    "class Solution:\n",
    "    def sortedSquares(self, nums):\n",
    "        \"\"\"\n",
    "        Tim Sort w/ O(nlogn)\n",
    "        :param nums: list[int]\n",
    "        :return: list[int]\n",
    "        \"\"\"\n",
    "        return sorted([num*num for num in nums])\n",
    "\n",
    "    def sortedSquares2(self, nums):\n",
    "        \"\"\"\n",
    "        O(n)\n",
    "        :param nums: list[int]\n",
    "        :return: list[int]\n",
    "        \"\"\"\n",
    "        left, right = 0, len(nums)-1\n",
    "        squares = [0]*len(nums)\n",
    "        cur = len(squares)-1\n",
    "\n",
    "        while cur >= 0:\n",
    "            if left == right:\n",
    "                squares[0] = nums[left]**2\n",
    "                break\n",
    "            if abs(nums[left]) > abs(nums[right]):\n",
    "                squares[cur] = nums[left]**2\n",
    "                cur -= 1\n",
    "                left += 1\n",
    "            elif abs(nums[left]) < abs(nums[right]):\n",
    "                squares[cur] = nums[right]**2\n",
    "                cur -= 1\n",
    "                right -= 1\n",
    "            else:\n",
    "                squares[cur-1:cur+1] = [nums[left]**2]*2\n",
    "                left += 1\n",
    "                right -= 1\n",
    "                cur -= 2\n",
    "        return squares\n",
    "\n",
    "Testing().test(Solution().sortedSquares([-4,-1,0,3,10]),[0,1,9,16,100])\n",
    "Testing().test(Solution().sortedSquares([-7,-3,2,3,11]),[4,9,9,49,121])\n",
    "Testing().test(Solution().sortedSquares2([-4,-1,0,3,10]),[0,1,9,16,100])\n",
    "Testing().test(Solution().sortedSquares2([-7,-3,2,3,11]),[4,9,9,49,121])"
   ],
   "metadata": {
    "collapsed": false,
    "pycharm": {
     "name": "#%%\n"
    }
   }
  },
  {
   "cell_type": "code",
   "execution_count": 65,
   "outputs": [],
   "source": [
    "# Rotate Array (Medium)\n",
    "\n",
    "class Solution:\n",
    "    def rotate(self, nums, k) -> None:\n",
    "        \"\"\"\n",
    "        Do not return anything, modify nums in-place instead.\n",
    "        \"\"\"\n",
    "        step = k % len(nums)\n",
    "        if step:\n",
    "            nums[:] = nums[-step:] + nums[0:len(nums)-step]\n",
    "\n",
    "nums = [1,2,3,4,5,6,7]\n",
    "Solution().rotate(nums, 3)\n",
    "Testing().test(nums,[5,6,7,1,2,3,4])"
   ],
   "metadata": {
    "collapsed": false,
    "pycharm": {
     "name": "#%%\n"
    }
   }
  },
  {
   "cell_type": "markdown",
   "source": [
    "### Day 3 Two Pointers"
   ],
   "metadata": {
    "collapsed": false,
    "pycharm": {
     "name": "#%% md\n"
    }
   }
  },
  {
   "cell_type": "code",
   "execution_count": 23,
   "outputs": [],
   "source": [
    "# Move Zeroes (Easy)\n",
    "\n",
    "class Solution:\n",
    "    def moveZeroes(self, nums) -> None:\n",
    "        \"\"\"\n",
    "        Time: O(n)\n",
    "        Space: O(1)\n",
    "        Solve: 20m\n",
    "\n",
    "        Do not return anything, modify nums in-place instead.\n",
    "        \"\"\"\n",
    "        # for i, num in enumerate(nums):\n",
    "        #     print(\"start\", nums)\n",
    "        #     if not num:\n",
    "        #         nums.append(nums.pop(i))\n",
    "        #     print(\"end  \", nums)\n",
    "\n",
    "        n, i = len(nums), 0\n",
    "        for _ in range(n):\n",
    "            if nums[i]:\n",
    "                i += 1\n",
    "            else:\n",
    "                nums.append(nums.pop(i))\n",
    "\n",
    "nums = [0,1,0,3,12]\n",
    "Solution().moveZeroes(nums)\n",
    "Testing().test(nums,[1,3,12,0,0])\n",
    "\n",
    "nums = [0]\n",
    "Solution().moveZeroes(nums)\n",
    "Testing().test(nums,[0])\n",
    "\n",
    "nums = [1]\n",
    "Solution().moveZeroes(nums)\n",
    "Testing().test(nums,[1])"
   ],
   "metadata": {
    "collapsed": false,
    "pycharm": {
     "name": "#%%\n"
    }
   }
  },
  {
   "cell_type": "code",
   "execution_count": 28,
   "outputs": [],
   "source": [
    "# Two Sum II - Input Array Is Sorted (Easy)\n",
    "\n",
    "class Solution:\n",
    "    def twoSum(self, numbers, target):\n",
    "        \"\"\"\n",
    "        Hash\n",
    "        Time: O(n)\n",
    "        Space: O(n)\n",
    "        Solve: 8m\n",
    "        \"\"\"\n",
    "        comps = {}\n",
    "        for i, num in enumerate(numbers):\n",
    "            comp = target - num\n",
    "            if comp in comps:\n",
    "                return sorted([i+1, comps[comp]+1])\n",
    "            comps[num] = i\n",
    "\n",
    "    def twoSum2(self, numbers, target):\n",
    "        \"\"\"\n",
    "        2 Pointers\n",
    "        Time: O(n)\n",
    "        Space: O(1)\n",
    "        Solve:\n",
    "        \"\"\"\n",
    "        l, r = 0, len(numbers)-1\n",
    "        while l < r:\n",
    "            add = numbers[l] + numbers[r]\n",
    "            if add == target:\n",
    "                return [l+1, r+1]\n",
    "            elif add > target:\n",
    "                r -= 1\n",
    "            else:\n",
    "                l += 1\n",
    "\n",
    "Testing().test(Solution().twoSum2([2,7,11,15], 9),[1,2])\n",
    "Testing().test(Solution().twoSum2([2,3,4], 6),[1,3])\n",
    "Testing().test(Solution().twoSum2([-1,0], -1),[1,2])"
   ],
   "metadata": {
    "collapsed": false,
    "pycharm": {
     "name": "#%%\n"
    }
   }
  },
  {
   "cell_type": "markdown",
   "source": [
    "### Day 4 Two Pointers"
   ],
   "metadata": {
    "collapsed": false,
    "pycharm": {
     "name": "#%% md\n"
    }
   }
  },
  {
   "cell_type": "code",
   "execution_count": 31,
   "outputs": [],
   "source": [
    "# Reverse String (Easy)\n",
    "\n",
    "class Solution:\n",
    "    def reverseString(self, s) -> None:\n",
    "        \"\"\"\n",
    "        Time: O(n)\n",
    "        Space: O(1)\n",
    "        Solve: 5m\n",
    "        Do not return anything, modify s in-place instead.\n",
    "        \"\"\"\n",
    "        s[:] = reversed(s)\n",
    "\n",
    "    def reverseString(self, s) -> None:\n",
    "        \"\"\"\n",
    "        Two pointers\n",
    "        Time: O(n/2)\n",
    "        Space: O(1)\n",
    "        Solve: 4m\n",
    "        \"\"\"\n",
    "        l, r = 0, len(s)-1\n",
    "        while l < r:\n",
    "            s[l], s[r] = s[r], s[l]\n",
    "            l += 1\n",
    "            r -= 1\n",
    "\n",
    "s = [\"h\",\"e\",\"l\",\"l\",\"o\"]\n",
    "Solution().reverseString(s)\n",
    "Testing().test(s,[\"o\",\"l\",\"l\",\"e\",\"h\"])"
   ],
   "metadata": {
    "collapsed": false,
    "pycharm": {
     "name": "#%%\n"
    }
   }
  },
  {
   "cell_type": "code",
   "execution_count": 55,
   "outputs": [],
   "source": [
    "# Reverse Words in a String III\n",
    "\n",
    "class Solution:\n",
    "    def reverseWords(self, s: str) -> str:\n",
    "        \"\"\"\n",
    "        Time:\n",
    "        Space:\n",
    "        Solve: 23m\n",
    "        \"\"\"\n",
    "        word = sentence = \"\"\n",
    "        for i, char in enumerate(s):\n",
    "            if char != \" \":\n",
    "                word += char\n",
    "            else:\n",
    "                sentence = sentence + word[::-1] + \" \"\n",
    "                word = \"\"\n",
    "            if i == len(s)-1:\n",
    "                sentence = sentence + word[::-1]\n",
    "        return sentence\n",
    "    def reverseWords2(self, s: str) -> str:\n",
    "        \"\"\"\n",
    "        built-in\n",
    "        Time:\n",
    "        Space:\n",
    "        Solve: 5m\n",
    "        \"\"\"\n",
    "        return ' '.join(s.split()[::-1])[::-1]\n",
    "\n",
    "Testing().test(Solution().reverseWords2(\"Let's take LeetCode contest\"),\"s'teL ekat edoCteeL tsetnoc\")\n",
    "Testing().test(Solution().reverseWords2(\"God Ding\"),\"doG gniD\")"
   ],
   "metadata": {
    "collapsed": false,
    "pycharm": {
     "name": "#%%\n"
    }
   }
  },
  {
   "cell_type": "markdown",
   "source": [
    "### Day 5 Two Pointers"
   ],
   "metadata": {
    "collapsed": false,
    "pycharm": {
     "name": "#%% md\n"
    }
   }
  },
  {
   "cell_type": "code",
   "execution_count": 17,
   "outputs": [
    {
     "data": {
      "text/plain": "3"
     },
     "execution_count": 17,
     "metadata": {},
     "output_type": "execute_result"
    }
   ],
   "source": [
    "# Middle of the Linked list (Easy)\n",
    "\n",
    "# Definition for singly-linked list.\n",
    "class ListNode:\n",
    "    def __init__(self, val=0, next=None):\n",
    "        self.val = val\n",
    "        self.next = next\n",
    "\n",
    "class Solution:\n",
    "    def middleNode(self, head):\n",
    "        \"\"\"\n",
    "        Time: O(N)\n",
    "        Space: O(1)\n",
    "        Solve:\n",
    "        \"\"\"\n",
    "        curr_node = mid_node = head\n",
    "        while curr_node and curr_node.next:\n",
    "            mid_node = mid_node.next\n",
    "            curr_node = curr_node.next.next\n",
    "        return mid_node\n",
    "\n",
    "a = ListNode(1, ListNode(2, ListNode(3, ListNode(4, ListNode(5)))))\n",
    "Solution().middleNode(a)"
   ],
   "metadata": {
    "collapsed": false,
    "pycharm": {
     "name": "#%%\n"
    }
   }
  },
  {
   "cell_type": "code",
   "execution_count": 24,
   "outputs": [
    {
     "name": "stdout",
     "output_type": "stream",
     "text": [
      "1\n",
      "2\n",
      "3\n",
      "5\n"
     ]
    }
   ],
   "source": [
    "# Remove Nth Node From End of List (Medium)\n",
    "\n",
    "class ListNode:\n",
    "    def __init__(self, val=0, next=None):\n",
    "        self.val = val\n",
    "        self.next = next\n",
    "\n",
    "class Solution:\n",
    "    def removeNthFromEnd(self, head, n: int):\n",
    "        \"\"\"\n",
    "        Time:\n",
    "        Space:\n",
    "        Solve:\n",
    "        \"\"\"\n",
    "        slow = fast = head\n",
    "        for _ in range(n):\n",
    "            fast = fast.next\n",
    "        if not fast:\n",
    "            return head.next\n",
    "        while fast.next:\n",
    "            fast = fast.next\n",
    "            slow = slow.next\n",
    "        slow.next = slow.next.next\n",
    "        return head\n",
    "\n",
    "a = ListNode(1, ListNode(2, ListNode(3, ListNode(4, ListNode(5)))))\n",
    "node = Solution().removeNthFromEnd(a, 2)\n",
    "while node:\n",
    "    print(node.val)\n",
    "    node = node.next"
   ],
   "metadata": {
    "collapsed": false,
    "pycharm": {
     "name": "#%%\n"
    }
   }
  },
  {
   "cell_type": "markdown",
   "source": [
    "### Day 6 Sliding Window"
   ],
   "metadata": {
    "collapsed": false,
    "pycharm": {
     "name": "#%% md\n"
    }
   }
  },
  {
   "cell_type": "code",
   "execution_count": 11,
   "outputs": [],
   "source": [
    "# Longest Substring Without Repeating Characters (Medium)\n",
    "\n",
    "class Solution:\n",
    "    def lengthOfLongestSubstring(self, s: str) -> int:\n",
    "        \"\"\"\n",
    "        Time: O(N)\n",
    "        Space: O(N)\n",
    "        Solve: 20m\n",
    "        \"\"\"\n",
    "        anchor = max_len = 0\n",
    "        char_pos = {}\n",
    "        for idx, char in enumerate(s):\n",
    "            if char in char_pos:\n",
    "                anchor = max(anchor, char_pos[char] + 1)\n",
    "            char_pos[char] = idx\n",
    "            max_len = max(max_len, len(s[anchor:idx+1]))\n",
    "        return max_len\n",
    "\n",
    "Testing().test(Solution().lengthOfLongestSubstring(\"\"),0)\n",
    "Testing().test(Solution().lengthOfLongestSubstring(\"abba\"),2)\n",
    "Testing().test(Solution().lengthOfLongestSubstring(\"abcabcbb\"),3)\n",
    "Testing().test(Solution().lengthOfLongestSubstring(\"bbbbb\"),1)\n",
    "Testing().test(Solution().lengthOfLongestSubstring(\"pwwkew\"),3)"
   ],
   "metadata": {
    "collapsed": false,
    "pycharm": {
     "name": "#%%\n"
    }
   }
  },
  {
   "cell_type": "code",
   "execution_count": 33,
   "outputs": [],
   "source": [
    "# Permutation in String (Medium)\n",
    "\n",
    "class Solution:\n",
    "    def checkInclusion(self, s1: str, s2: str) -> bool:\n",
    "        \"\"\"\n",
    "        Time:\n",
    "        Space:\n",
    "        Solve: 26m\n",
    "        \"\"\"\n",
    "        s1_sig = self.convertSignature(s1)\n",
    "        s1_len = len(s1)\n",
    "        for idx in range(len(s2) - s1_len + 1):\n",
    "            sub_s2 = s2[idx: idx + s1_len]\n",
    "            if s1_sig in self.convertSignature(sub_s2):\n",
    "                return True\n",
    "        return False\n",
    "\n",
    "    def convertSignature(self, s):\n",
    "        return \"\".join(sorted(s))\n",
    "\n",
    "    def checkInclusion(self, s1: str, s2: str) -> bool:\n",
    "        \"\"\"\n",
    "        Time: O(n)\n",
    "        Space: O(n)\n",
    "        Solve: best solution\n",
    "        \"\"\"\n",
    "        A = [ord(x) - ord('a') for x in s1]\n",
    "        B = [ord(x) - ord('a') for x in s2]\n",
    "        target = [0] * 26\n",
    "        for x in A:\n",
    "            target[x] += 1\n",
    "\n",
    "        window = [0] * 26\n",
    "        for i, x in enumerate(B):\n",
    "            window[x] += 1\n",
    "            if i >= len(A):\n",
    "                window[B[i - len(A)]] -= 1\n",
    "            if window == target:\n",
    "                return True\n",
    "        return False\n",
    "\n",
    "Testing().test(Solution().checkInclusion(\"ab\", \"eidbaooo\"),True)\n",
    "Testing().test(Solution().checkInclusion(\"ab\", \"eidboaoo\"),False)"
   ],
   "metadata": {
    "collapsed": false,
    "pycharm": {
     "name": "#%%\n"
    }
   }
  },
  {
   "cell_type": "markdown",
   "source": [
    "### Day 7 Breadth-First Search / Depth-First Search"
   ],
   "metadata": {
    "collapsed": false,
    "pycharm": {
     "name": "#%% md\n"
    }
   }
  },
  {
   "cell_type": "code",
   "execution_count": 36,
   "outputs": [],
   "source": [
    "# Flood Fill (Easy)\n",
    "\n",
    "from collections import deque\n",
    "\n",
    "class Solution:\n",
    "    def floodFill(self, image, sr: int, sc: int, newColor: int):\n",
    "        \"\"\"\n",
    "        Time: O(n)\n",
    "        Space: O(n)\n",
    "        Solve:\n",
    "        \"\"\"\n",
    "        # BFS with que\n",
    "        r_lim, c_lim = len(image), len(image[0])\n",
    "        oldColor = image[sr][sc]\n",
    "        q = deque([(sr, sc)])\n",
    "        seen = set()\n",
    "\n",
    "        while q:\n",
    "            point = q.popleft()\n",
    "            next_points = [(point[0] + 1, point[1]),\n",
    "                           (point[0] - 1, point[1]),\n",
    "                           (point[0], point[1] + 1),\n",
    "                           (point[0], point[1] - 1)]\n",
    "            for next_point in next_points:\n",
    "                if 0 <= next_point[0] < r_lim and 0 <= next_point[1] < c_lim and next_point not in seen and image[next_point[0]][next_point[1]] == oldColor:\n",
    "                    q.append(next_point)\n",
    "                    seen.add(next_point)\n",
    "            image[point[0]][point[1]] = newColor\n",
    "        return image\n",
    "\n",
    "Testing().test(Solution().floodFill([[1,1,1],[1,1,0],[1,0,1]], 1, 1, 2),[[2,2,2],[2,2,0],[2,0,1]])\n",
    "Testing().test(Solution().floodFill([[0,0,0],[0,0,0]], 0, 0, 2),[[2,2,2],[2,2,2]])"
   ],
   "metadata": {
    "collapsed": false,
    "pycharm": {
     "name": "#%%\n"
    }
   }
  },
  {
   "cell_type": "code",
   "execution_count": 54,
   "outputs": [],
   "source": [
    "# Max Area of Island (Medium)\n",
    "\n",
    "from collections import defaultdict, deque\n",
    "\n",
    "class Solution:\n",
    "    def maxAreaOfIsland(self, grid) -> int:\n",
    "        \"\"\"\n",
    "        Time: O(R*C)\n",
    "        Space: O(R*C)\n",
    "        Solve: 25m\n",
    "        \"\"\"\n",
    "        islands = {}\n",
    "        island_idx = 0\n",
    "        y_lim, x_lim = len(grid), len(grid[0])\n",
    "        visited = set()\n",
    "        for y, row in enumerate(grid):\n",
    "            for x, val in enumerate(row):\n",
    "                # check if visited\n",
    "                if (y, x) in visited:\n",
    "                    continue\n",
    "                else:\n",
    "                    visited.add((y, x))\n",
    "                # check if island\n",
    "                if val:\n",
    "                    q = deque([(y, x)])\n",
    "                    islands[island_idx] = 1\n",
    "                    while q:\n",
    "                        point = q.popleft()\n",
    "                        next_points = [(point[0] + 1, point[1]),\n",
    "                                       (point[0] - 1, point[1]),\n",
    "                                       (point[0], point[1] + 1),\n",
    "                                       (point[0], point[1] - 1)]\n",
    "                        for next_point in next_points:\n",
    "                            next_y, next_x = next_point[0], next_point[1]\n",
    "                            if 0 <= next_y < y_lim and 0 <= next_x < x_lim and grid[next_y][next_x] == 1 and next_point not in visited:\n",
    "                                q.append(next_point)\n",
    "                                visited.add(next_point)\n",
    "                                islands[island_idx] += 1\n",
    "                    island_idx += 1\n",
    "        return max(islands.values()) if island_idx else 0\n",
    "\n",
    "Testing().test(Solution().maxAreaOfIsland([[0,0,1,0,0,0,0,1,0,0,0,0,0],[0,0,0,0,0,0,0,1,1,1,0,0,0],[0,1,1,0,1,0,0,0,0,0,0,0,0],[0,1,0,0,1,1,0,0,1,0,1,0,0],[0,1,0,0,1,1,0,0,1,1,1,0,0],[0,0,0,0,0,0,0,0,0,0,1,0,0],[0,0,0,0,0,0,0,1,1,1,0,0,0],[0,0,0,0,0,0,0,1,1,0,0,0,0]]),6)\n",
    "Testing().test(Solution().maxAreaOfIsland([[0,0,0,0,0,0,0,0]]),0)"
   ],
   "metadata": {
    "collapsed": false,
    "pycharm": {
     "name": "#%%\n"
    }
   }
  },
  {
   "cell_type": "markdown",
   "source": [
    "### Day Breadth-First Search / Depth-First Search"
   ],
   "metadata": {
    "collapsed": false,
    "pycharm": {
     "name": "#%% md\n"
    }
   }
  },
  {
   "cell_type": "code",
   "execution_count": 5,
   "outputs": [
    {
     "ename": "AttributeError",
     "evalue": "'int' object has no attribute 'val'",
     "output_type": "error",
     "traceback": [
      "\u001B[1;31m---------------------------------------------------------------------------\u001B[0m",
      "\u001B[1;31mAttributeError\u001B[0m                            Traceback (most recent call last)",
      "\u001B[1;32m<ipython-input-5-b899c98832cd>\u001B[0m in \u001B[0;36m<module>\u001B[1;34m\u001B[0m\n\u001B[0;32m     23\u001B[0m         \u001B[1;32mreturn\u001B[0m \u001B[0mtmp_node\u001B[0m\u001B[1;33m\u001B[0m\u001B[1;33m\u001B[0m\u001B[0m\n\u001B[0;32m     24\u001B[0m \u001B[1;33m\u001B[0m\u001B[0m\n\u001B[1;32m---> 25\u001B[1;33m \u001B[0mSolution\u001B[0m\u001B[1;33m(\u001B[0m\u001B[1;33m)\u001B[0m\u001B[1;33m.\u001B[0m\u001B[0mmergeTrees\u001B[0m\u001B[1;33m(\u001B[0m\u001B[1;36m1\u001B[0m\u001B[1;33m,\u001B[0m\u001B[1;36m0\u001B[0m\u001B[1;33m)\u001B[0m\u001B[1;33m\u001B[0m\u001B[1;33m\u001B[0m\u001B[0m\n\u001B[0m",
      "\u001B[1;32m<ipython-input-5-b899c98832cd>\u001B[0m in \u001B[0;36mmergeTrees\u001B[1;34m(self, root1, root2)\u001B[0m\n\u001B[0;32m     18\u001B[0m         \u001B[1;32mif\u001B[0m \u001B[1;32mnot\u001B[0m \u001B[1;33m(\u001B[0m\u001B[0mroot1\u001B[0m \u001B[1;32mor\u001B[0m \u001B[0mroot2\u001B[0m\u001B[1;33m)\u001B[0m\u001B[1;33m:\u001B[0m\u001B[1;33m\u001B[0m\u001B[1;33m\u001B[0m\u001B[0m\n\u001B[0;32m     19\u001B[0m             \u001B[1;32mreturn\u001B[0m \u001B[1;32mNone\u001B[0m\u001B[1;33m\u001B[0m\u001B[1;33m\u001B[0m\u001B[0m\n\u001B[1;32m---> 20\u001B[1;33m         \u001B[0mtmp_node\u001B[0m \u001B[1;33m=\u001B[0m \u001B[0mTreeNode\u001B[0m\u001B[1;33m(\u001B[0m\u001B[1;33m(\u001B[0m\u001B[0mroot1\u001B[0m\u001B[1;33m.\u001B[0m\u001B[0mval\u001B[0m \u001B[1;32mif\u001B[0m \u001B[0mroot1\u001B[0m \u001B[1;32melse\u001B[0m \u001B[1;36m0\u001B[0m\u001B[1;33m)\u001B[0m \u001B[1;33m+\u001B[0m \u001B[1;33m(\u001B[0m\u001B[0mroot2\u001B[0m\u001B[1;33m.\u001B[0m\u001B[0mval\u001B[0m \u001B[1;32mif\u001B[0m \u001B[0mroot2\u001B[0m \u001B[1;32melse\u001B[0m \u001B[1;36m0\u001B[0m\u001B[1;33m)\u001B[0m\u001B[1;33m)\u001B[0m\u001B[1;33m\u001B[0m\u001B[1;33m\u001B[0m\u001B[0m\n\u001B[0m\u001B[0;32m     21\u001B[0m         \u001B[0mtmp_node\u001B[0m\u001B[1;33m.\u001B[0m\u001B[0mleft\u001B[0m \u001B[1;33m=\u001B[0m \u001B[0mself\u001B[0m\u001B[1;33m.\u001B[0m\u001B[0mmergeTrees\u001B[0m\u001B[1;33m(\u001B[0m\u001B[0mroot1\u001B[0m\u001B[1;33m.\u001B[0m\u001B[0mleft\u001B[0m \u001B[1;32mif\u001B[0m \u001B[0mroot1\u001B[0m\u001B[1;33m.\u001B[0m\u001B[0mleft\u001B[0m \u001B[1;32melse\u001B[0m \u001B[1;32mNone\u001B[0m\u001B[1;33m,\u001B[0m \u001B[0mroot2\u001B[0m\u001B[1;33m.\u001B[0m\u001B[0mleft\u001B[0m \u001B[1;32mif\u001B[0m \u001B[0mroot2\u001B[0m\u001B[1;33m.\u001B[0m\u001B[0mleft\u001B[0m \u001B[1;32melse\u001B[0m \u001B[1;32mNone\u001B[0m\u001B[1;33m)\u001B[0m\u001B[1;33m\u001B[0m\u001B[1;33m\u001B[0m\u001B[0m\n\u001B[0;32m     22\u001B[0m         \u001B[0mtmp_node\u001B[0m\u001B[1;33m.\u001B[0m\u001B[0mright\u001B[0m \u001B[1;33m=\u001B[0m \u001B[0mself\u001B[0m\u001B[1;33m.\u001B[0m\u001B[0mmergeTrees\u001B[0m\u001B[1;33m(\u001B[0m\u001B[0mroot1\u001B[0m\u001B[1;33m.\u001B[0m\u001B[0mright\u001B[0m \u001B[1;32mif\u001B[0m \u001B[0mroot1\u001B[0m\u001B[1;33m.\u001B[0m\u001B[0mright\u001B[0m \u001B[1;32melse\u001B[0m \u001B[1;32mNone\u001B[0m\u001B[1;33m,\u001B[0m \u001B[0mroot2\u001B[0m\u001B[1;33m.\u001B[0m\u001B[0mright\u001B[0m \u001B[1;32mif\u001B[0m \u001B[0mroot2\u001B[0m\u001B[1;33m.\u001B[0m\u001B[0mright\u001B[0m \u001B[1;32melse\u001B[0m \u001B[1;32mNone\u001B[0m\u001B[1;33m)\u001B[0m\u001B[1;33m\u001B[0m\u001B[1;33m\u001B[0m\u001B[0m\n",
      "\u001B[1;31mAttributeError\u001B[0m: 'int' object has no attribute 'val'"
     ]
    }
   ],
   "source": [
    "# Merge Two Binary Trees (Easy)\n",
    "\n",
    "# Definition for a binary tree node.\n",
    "class TreeNode:\n",
    "    def __init__(self, val=0, left=None, right=None):\n",
    "        self.val = val\n",
    "        self.left = left\n",
    "        self.right = right\n",
    "\n",
    "class Solution:\n",
    "    def mergeTrees(self, root1, root2):\n",
    "        \"\"\"\n",
    "        Recursion\n",
    "        Time: O(N)\n",
    "        Space: O(1)\n",
    "        Solve: Best Solution\n",
    "        \"\"\"\n",
    "        if not (root1 or root2):\n",
    "            return None\n",
    "        tmp_node = TreeNode((root1.val if root1 else 0) + (root2.val if root2 else 0))\n",
    "        tmp_node.left = self.mergeTrees(root1.left if root1 else None, root2.left if root2 else None)\n",
    "        tmp_node.right = self.mergeTrees(root1.right if root1 else None, root2.right if root2 else None)\n",
    "        return tmp_node\n"
   ],
   "metadata": {
    "collapsed": false,
    "pycharm": {
     "name": "#%%\n"
    }
   }
  }
 ],
 "metadata": {
  "kernelspec": {
   "display_name": "Python 3",
   "language": "python",
   "name": "python3"
  },
  "language_info": {
   "codemirror_mode": {
    "name": "ipython",
    "version": 2
   },
   "file_extension": ".py",
   "mimetype": "text/x-python",
   "name": "python",
   "nbconvert_exporter": "python",
   "pygments_lexer": "ipython2",
   "version": "2.7.6"
  }
 },
 "nbformat": 4,
 "nbformat_minor": 0
}