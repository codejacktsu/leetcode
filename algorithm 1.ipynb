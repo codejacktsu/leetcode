{
 "cells": [
  {
   "cell_type": "code",
   "execution_count": 1,
   "outputs": [],
   "source": [
    "import unittest"
   ],
   "metadata": {
    "collapsed": false,
    "pycharm": {
     "name": "#%%\n"
    }
   }
  },
  {
   "cell_type": "code",
   "execution_count": 2,
   "outputs": [],
   "source": [
    "class Testing(unittest.TestCase):\n",
    "    def test(self, answer, solution):\n",
    "        self.assertEqual(answer, solution)"
   ],
   "metadata": {
    "collapsed": false,
    "pycharm": {
     "name": "#%%\n"
    }
   }
  },
  {
   "cell_type": "markdown",
   "source": [
    "### Day 1 Binary Search"
   ],
   "metadata": {
    "collapsed": false
   }
  },
  {
   "cell_type": "code",
   "execution_count": 24,
   "outputs": [
    {
     "data": {
      "text/plain": "4"
     },
     "execution_count": 24,
     "metadata": {},
     "output_type": "execute_result"
    }
   ],
   "source": [
    "# Binary Search (Easy)\n",
    "\n",
    "nums = [-1,0,3,5,9,12]\n",
    "target = 9\n",
    "\n",
    "class Solution:\n",
    "    def search(self, nums, target: int) -> int:\n",
    "        start, end = 0, len(nums)\n",
    "        while start != end:\n",
    "            mid = (start + end)//2\n",
    "            if target == nums[mid]:\n",
    "                return mid\n",
    "            elif target < nums[mid]:\n",
    "                end = mid\n",
    "            else:\n",
    "                start = mid + 1\n",
    "        return -1\n",
    "\n",
    "Solution().search(nums, target)"
   ],
   "metadata": {
    "collapsed": false,
    "pycharm": {
     "name": "#%%\n"
    }
   }
  },
  {
   "cell_type": "code",
   "execution_count": 38,
   "outputs": [
    {
     "data": {
      "text/plain": "4"
     },
     "execution_count": 38,
     "metadata": {},
     "output_type": "execute_result"
    }
   ],
   "source": [
    "# First Bad Version (Easy)\n",
    "\n",
    "n = 5\n",
    "bad = 4\n",
    "\n",
    "# API bool isBadVersion(version)\n",
    "def isBadVersion(ver):\n",
    "    return False if ver < bad else True\n",
    "\n",
    "class Solution:\n",
    "    def firstBadVersion(self, n):\n",
    "        start, end = 1, n\n",
    "        while start != end:\n",
    "            mid = (start + end)//2\n",
    "            if isBadVersion(mid):\n",
    "                end = mid\n",
    "            else:\n",
    "                start = mid + 1\n",
    "        return start\n",
    "\n",
    "Solution().firstBadVersion(n)"
   ],
   "metadata": {
    "collapsed": false,
    "pycharm": {
     "name": "#%%\n"
    }
   }
  },
  {
   "cell_type": "code",
   "execution_count": 43,
   "outputs": [
    {
     "data": {
      "text/plain": "2"
     },
     "execution_count": 43,
     "metadata": {},
     "output_type": "execute_result"
    }
   ],
   "source": [
    "# Search Insert Position (Easy)\n",
    "\n",
    "nums = [1,3,5,6]\n",
    "target = 4\n",
    "\n",
    "class Solution:\n",
    "    def searchInsert(self, nums, target: int) -> int:\n",
    "        start, end = 0, len(nums)\n",
    "        while start != end:\n",
    "            mid = (start + end)//2\n",
    "            if target == nums[mid]:\n",
    "                return mid\n",
    "            elif target < nums[mid]:\n",
    "                end = mid\n",
    "            else:\n",
    "                start = mid + 1\n",
    "        return start\n",
    "\n",
    "Solution().searchInsert(nums, target)"
   ],
   "metadata": {
    "collapsed": false,
    "pycharm": {
     "name": "#%%\n"
    }
   }
  },
  {
   "cell_type": "markdown",
   "source": [
    "### Day 2 Two Pointers"
   ],
   "metadata": {
    "collapsed": false,
    "pycharm": {
     "name": "#%% md\n"
    }
   }
  },
  {
   "cell_type": "code",
   "execution_count": 38,
   "outputs": [],
   "source": [
    "# Squares of a Sorted Array (Easy)\n",
    "\n",
    "class Solution:\n",
    "    def sortedSquares(self, nums):\n",
    "        \"\"\"\n",
    "        Tim Sort w/ O(nlogn)\n",
    "        :param nums: list[int]\n",
    "        :return: list[int]\n",
    "        \"\"\"\n",
    "        return sorted([num*num for num in nums])\n",
    "\n",
    "    def sortedSquares2(self, nums):\n",
    "        \"\"\"\n",
    "        O(n)\n",
    "        :param nums: list[int]\n",
    "        :return: list[int]\n",
    "        \"\"\"\n",
    "        left, right = 0, len(nums)-1\n",
    "        squares = [0]*len(nums)\n",
    "        cur = len(squares)-1\n",
    "\n",
    "        while cur >= 0:\n",
    "            if left == right:\n",
    "                squares[0] = nums[left]**2\n",
    "                break\n",
    "            if abs(nums[left]) > abs(nums[right]):\n",
    "                squares[cur] = nums[left]**2\n",
    "                cur -= 1\n",
    "                left += 1\n",
    "            elif abs(nums[left]) < abs(nums[right]):\n",
    "                squares[cur] = nums[right]**2\n",
    "                cur -= 1\n",
    "                right -= 1\n",
    "            else:\n",
    "                squares[cur-1:cur+1] = [nums[left]**2]*2\n",
    "                left += 1\n",
    "                right -= 1\n",
    "                cur -= 2\n",
    "        return squares\n",
    "\n",
    "Testing().test(Solution().sortedSquares([-4,-1,0,3,10]),[0,1,9,16,100])\n",
    "Testing().test(Solution().sortedSquares([-7,-3,2,3,11]),[4,9,9,49,121])\n",
    "Testing().test(Solution().sortedSquares2([-4,-1,0,3,10]),[0,1,9,16,100])\n",
    "Testing().test(Solution().sortedSquares2([-7,-3,2,3,11]),[4,9,9,49,121])"
   ],
   "metadata": {
    "collapsed": false,
    "pycharm": {
     "name": "#%%\n"
    }
   }
  },
  {
   "cell_type": "code",
   "execution_count": 65,
   "outputs": [],
   "source": [
    "# Rotate Array (Medium)\n",
    "\n",
    "class Solution:\n",
    "    def rotate(self, nums, k) -> None:\n",
    "        \"\"\"\n",
    "        Do not return anything, modify nums in-place instead.\n",
    "        \"\"\"\n",
    "        step = k % len(nums)\n",
    "        if step:\n",
    "            nums[:] = nums[-step:] + nums[0:len(nums)-step]\n",
    "\n",
    "nums = [1,2,3,4,5,6,7]\n",
    "Solution().rotate(nums, 3)\n",
    "Testing().test(nums,[5,6,7,1,2,3,4])"
   ],
   "metadata": {
    "collapsed": false,
    "pycharm": {
     "name": "#%%\n"
    }
   }
  },
  {
   "cell_type": "markdown",
   "source": [
    "### Day 3 Two Pointers"
   ],
   "metadata": {
    "collapsed": false,
    "pycharm": {
     "name": "#%% md\n"
    }
   }
  },
  {
   "cell_type": "code",
   "execution_count": 23,
   "outputs": [],
   "source": [
    "# Move Zeroes (Easy)\n",
    "\n",
    "class Solution:\n",
    "    def moveZeroes(self, nums) -> None:\n",
    "        \"\"\"\n",
    "        Time: O(n)\n",
    "        Space: O(1)\n",
    "        Solve: 20m\n",
    "\n",
    "        Do not return anything, modify nums in-place instead.\n",
    "        \"\"\"\n",
    "        # for i, num in enumerate(nums):\n",
    "        #     print(\"start\", nums)\n",
    "        #     if not num:\n",
    "        #         nums.append(nums.pop(i))\n",
    "        #     print(\"end  \", nums)\n",
    "\n",
    "        n, i = len(nums), 0\n",
    "        for _ in range(n):\n",
    "            if nums[i]:\n",
    "                i += 1\n",
    "            else:\n",
    "                nums.append(nums.pop(i))\n",
    "\n",
    "nums = [0,1,0,3,12]\n",
    "Solution().moveZeroes(nums)\n",
    "Testing().test(nums,[1,3,12,0,0])\n",
    "\n",
    "nums = [0]\n",
    "Solution().moveZeroes(nums)\n",
    "Testing().test(nums,[0])\n",
    "\n",
    "nums = [1]\n",
    "Solution().moveZeroes(nums)\n",
    "Testing().test(nums,[1])"
   ],
   "metadata": {
    "collapsed": false,
    "pycharm": {
     "name": "#%%\n"
    }
   }
  },
  {
   "cell_type": "code",
   "execution_count": 28,
   "outputs": [],
   "source": [
    "# Two Sum II - Input Array Is Sorted (Easy)\n",
    "\n",
    "class Solution:\n",
    "    def twoSum(self, numbers, target):\n",
    "        \"\"\"\n",
    "        Hash\n",
    "        Time: O(n)\n",
    "        Space: O(n)\n",
    "        Solve: 8m\n",
    "        \"\"\"\n",
    "        comps = {}\n",
    "        for i, num in enumerate(numbers):\n",
    "            comp = target - num\n",
    "            if comp in comps:\n",
    "                return sorted([i+1, comps[comp]+1])\n",
    "            comps[num] = i\n",
    "\n",
    "    def twoSum2(self, numbers, target):\n",
    "        \"\"\"\n",
    "        2 Pointers\n",
    "        Time: O(n)\n",
    "        Space: O(1)\n",
    "        Solve:\n",
    "        \"\"\"\n",
    "        l, r = 0, len(numbers)-1\n",
    "        while l < r:\n",
    "            add = numbers[l] + numbers[r]\n",
    "            if add == target:\n",
    "                return [l+1, r+1]\n",
    "            elif add > target:\n",
    "                r -= 1\n",
    "            else:\n",
    "                l += 1\n",
    "\n",
    "Testing().test(Solution().twoSum2([2,7,11,15], 9),[1,2])\n",
    "Testing().test(Solution().twoSum2([2,3,4], 6),[1,3])\n",
    "Testing().test(Solution().twoSum2([-1,0], -1),[1,2])"
   ],
   "metadata": {
    "collapsed": false,
    "pycharm": {
     "name": "#%%\n"
    }
   }
  },
  {
   "cell_type": "markdown",
   "source": [
    "### Day 4 Two Pointers"
   ],
   "metadata": {
    "collapsed": false,
    "pycharm": {
     "name": "#%% md\n"
    }
   }
  },
  {
   "cell_type": "code",
   "execution_count": 31,
   "outputs": [],
   "source": [
    "# Reverse String (Easy)\n",
    "\n",
    "class Solution:\n",
    "    def reverseString(self, s) -> None:\n",
    "        \"\"\"\n",
    "        Time: O(n)\n",
    "        Space: O(1)\n",
    "        Solve: 5m\n",
    "        Do not return anything, modify s in-place instead.\n",
    "        \"\"\"\n",
    "        s[:] = reversed(s)\n",
    "\n",
    "    def reverseString(self, s) -> None:\n",
    "        \"\"\"\n",
    "        Two pointers\n",
    "        Time: O(n/2)\n",
    "        Space: O(1)\n",
    "        Solve: 4m\n",
    "        \"\"\"\n",
    "        l, r = 0, len(s)-1\n",
    "        while l < r:\n",
    "            s[l], s[r] = s[r], s[l]\n",
    "            l += 1\n",
    "            r -= 1\n",
    "\n",
    "s = [\"h\",\"e\",\"l\",\"l\",\"o\"]\n",
    "Solution().reverseString(s)\n",
    "Testing().test(s,[\"o\",\"l\",\"l\",\"e\",\"h\"])"
   ],
   "metadata": {
    "collapsed": false,
    "pycharm": {
     "name": "#%%\n"
    }
   }
  },
  {
   "cell_type": "code",
   "execution_count": 55,
   "outputs": [],
   "source": [
    "# Reverse Words in a String III\n",
    "\n",
    "class Solution:\n",
    "    def reverseWords(self, s: str) -> str:\n",
    "        \"\"\"\n",
    "        Time:\n",
    "        Space:\n",
    "        Solve: 23m\n",
    "        \"\"\"\n",
    "        word = sentence = \"\"\n",
    "        for i, char in enumerate(s):\n",
    "            if char != \" \":\n",
    "                word += char\n",
    "            else:\n",
    "                sentence = sentence + word[::-1] + \" \"\n",
    "                word = \"\"\n",
    "            if i == len(s)-1:\n",
    "                sentence = sentence + word[::-1]\n",
    "        return sentence\n",
    "    def reverseWords2(self, s: str) -> str:\n",
    "        \"\"\"\n",
    "        built-in\n",
    "        Time:\n",
    "        Space:\n",
    "        Solve: 5m\n",
    "        \"\"\"\n",
    "        return ' '.join(s.split()[::-1])[::-1]\n",
    "\n",
    "Testing().test(Solution().reverseWords2(\"Let's take LeetCode contest\"),\"s'teL ekat edoCteeL tsetnoc\")\n",
    "Testing().test(Solution().reverseWords2(\"God Ding\"),\"doG gniD\")"
   ],
   "metadata": {
    "collapsed": false,
    "pycharm": {
     "name": "#%%\n"
    }
   }
  },
  {
   "cell_type": "markdown",
   "source": [
    "### Day 5 Two Pointers"
   ],
   "metadata": {
    "collapsed": false,
    "pycharm": {
     "name": "#%% md\n"
    }
   }
  },
  {
   "cell_type": "code",
   "execution_count": 17,
   "outputs": [
    {
     "data": {
      "text/plain": "3"
     },
     "execution_count": 17,
     "metadata": {},
     "output_type": "execute_result"
    }
   ],
   "source": [
    "# Middle of the Linked list (Easy)\n",
    "\n",
    "# Definition for singly-linked list.\n",
    "class ListNode:\n",
    "    def __init__(self, val=0, next=None):\n",
    "        self.val = val\n",
    "        self.next = next\n",
    "\n",
    "class Solution:\n",
    "    def middleNode(self, head):\n",
    "        \"\"\"\n",
    "        Time: O(N)\n",
    "        Space: O(1)\n",
    "        Solve:\n",
    "        \"\"\"\n",
    "        curr_node = mid_node = head\n",
    "        while curr_node and curr_node.next:\n",
    "            mid_node = mid_node.next\n",
    "            curr_node = curr_node.next.next\n",
    "        return mid_node\n",
    "\n",
    "a = ListNode(1, ListNode(2, ListNode(3, ListNode(4, ListNode(5)))))\n",
    "Solution().middleNode(a)"
   ],
   "metadata": {
    "collapsed": false,
    "pycharm": {
     "name": "#%%\n"
    }
   }
  },
  {
   "cell_type": "code",
   "execution_count": 24,
   "outputs": [
    {
     "name": "stdout",
     "output_type": "stream",
     "text": [
      "1\n",
      "2\n",
      "3\n",
      "5\n"
     ]
    }
   ],
   "source": [
    "# Remove Nth Node From End of List (Medium)\n",
    "\n",
    "class ListNode:\n",
    "    def __init__(self, val=0, next=None):\n",
    "        self.val = val\n",
    "        self.next = next\n",
    "\n",
    "class Solution:\n",
    "    def removeNthFromEnd(self, head, n: int):\n",
    "        \"\"\"\n",
    "        Time:\n",
    "        Space:\n",
    "        Solve:\n",
    "        \"\"\"\n",
    "        slow = fast = head\n",
    "        for _ in range(n):\n",
    "            fast = fast.next\n",
    "        if not fast:\n",
    "            return head.next\n",
    "        while fast.next:\n",
    "            fast = fast.next\n",
    "            slow = slow.next\n",
    "        slow.next = slow.next.next\n",
    "        return head\n",
    "\n",
    "a = ListNode(1, ListNode(2, ListNode(3, ListNode(4, ListNode(5)))))\n",
    "node = Solution().removeNthFromEnd(a, 2)\n",
    "while node:\n",
    "    print(node.val)\n",
    "    node = node.next"
   ],
   "metadata": {
    "collapsed": false,
    "pycharm": {
     "name": "#%%\n"
    }
   }
  },
  {
   "cell_type": "markdown",
   "source": [
    "### Day 6 Sliding Window"
   ],
   "metadata": {
    "collapsed": false,
    "pycharm": {
     "name": "#%% md\n"
    }
   }
  },
  {
   "cell_type": "code",
   "execution_count": null,
   "outputs": [],
   "source": [],
   "metadata": {
    "collapsed": false,
    "pycharm": {
     "name": "#%%\n"
    }
   }
  },
  {
   "cell_type": "code",
   "execution_count": null,
   "outputs": [],
   "source": [],
   "metadata": {
    "collapsed": false,
    "pycharm": {
     "name": "#%%\n"
    }
   }
  }
 ],
 "metadata": {
  "kernelspec": {
   "display_name": "Python 3",
   "language": "python",
   "name": "python3"
  },
  "language_info": {
   "codemirror_mode": {
    "name": "ipython",
    "version": 2
   },
   "file_extension": ".py",
   "mimetype": "text/x-python",
   "name": "python",
   "nbconvert_exporter": "python",
   "pygments_lexer": "ipython2",
   "version": "2.7.6"
  }
 },
 "nbformat": 4,
 "nbformat_minor": 0
}