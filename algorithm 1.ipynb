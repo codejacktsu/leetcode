{
 "cells": [
  {
   "cell_type": "markdown",
   "source": [
    "### Day 1 Binary Search"
   ],
   "metadata": {
    "collapsed": false,
    "pycharm": {
     "name": "#%% md\n"
    }
   }
  },
  {
   "cell_type": "code",
   "execution_count": 24,
   "outputs": [
    {
     "data": {
      "text/plain": "4"
     },
     "execution_count": 24,
     "metadata": {},
     "output_type": "execute_result"
    }
   ],
   "source": [
    "# Binary Search\n",
    "\n",
    "nums = [-1,0,3,5,9,12]\n",
    "target = 9\n",
    "\n",
    "class Solution:\n",
    "    def search(self, nums, target: int) -> int:\n",
    "        start, end = 0, len(nums)\n",
    "        while start != end:\n",
    "            mid = (start + end)//2\n",
    "            if target == nums[mid]:\n",
    "                return mid\n",
    "            elif target < nums[mid]:\n",
    "                end = mid\n",
    "            else:\n",
    "                start = mid + 1\n",
    "        return -1\n",
    "\n",
    "Solution().search(nums, target)"
   ],
   "metadata": {
    "collapsed": false,
    "pycharm": {
     "name": "#%%\n"
    }
   }
  },
  {
   "cell_type": "code",
   "execution_count": 38,
   "outputs": [
    {
     "data": {
      "text/plain": "4"
     },
     "execution_count": 38,
     "metadata": {},
     "output_type": "execute_result"
    }
   ],
   "source": [
    "# First Bad Version\n",
    "\n",
    "n = 5\n",
    "bad = 4\n",
    "\n",
    "# API bool isBadVersion(version)\n",
    "def isBadVersion(ver):\n",
    "    return False if ver < bad else True\n",
    "\n",
    "class Solution:\n",
    "    def firstBadVersion(self, n):\n",
    "        start, end = 1, n\n",
    "        while start != end:\n",
    "            mid = (start + end)//2\n",
    "            if isBadVersion(mid):\n",
    "                end = mid\n",
    "            else:\n",
    "                start = mid + 1\n",
    "        return start\n",
    "\n",
    "Solution().firstBadVersion(n)"
   ],
   "metadata": {
    "collapsed": false,
    "pycharm": {
     "name": "#%%\n"
    }
   }
  },
  {
   "cell_type": "code",
   "execution_count": 43,
   "outputs": [
    {
     "data": {
      "text/plain": "2"
     },
     "execution_count": 43,
     "metadata": {},
     "output_type": "execute_result"
    }
   ],
   "source": [
    "# Search Insert Position\n",
    "\n",
    "nums = [1,3,5,6]\n",
    "target = 4\n",
    "\n",
    "class Solution:\n",
    "    def searchInsert(self, nums, target: int) -> int:\n",
    "        start, end = 0, len(nums)\n",
    "        while start != end:\n",
    "            mid = (start + end)//2\n",
    "            if target == nums[mid]:\n",
    "                return mid\n",
    "            elif target < nums[mid]:\n",
    "                end = mid\n",
    "            else:\n",
    "                start = mid + 1\n",
    "        return start\n",
    "\n",
    "Solution().searchInsert(nums, target)"
   ],
   "metadata": {
    "collapsed": false,
    "pycharm": {
     "name": "#%%\n"
    }
   }
  },
  {
   "cell_type": "markdown",
   "source": [
    "### Day 2 Two Pointers"
   ],
   "metadata": {
    "collapsed": false,
    "pycharm": {
     "name": "#%% md\n"
    }
   }
  },
  {
   "cell_type": "code",
   "execution_count": null,
   "outputs": [],
   "source": [
    "# Squares of a Sorted Array"
   ],
   "metadata": {
    "collapsed": false,
    "pycharm": {
     "name": "#%%\n"
    }
   }
  },
  {
   "cell_type": "code",
   "execution_count": null,
   "outputs": [],
   "source": [
    "# Rotate Array"
   ],
   "metadata": {
    "collapsed": false,
    "pycharm": {
     "name": "#%%\n"
    }
   }
  }
 ],
 "metadata": {
  "kernelspec": {
   "display_name": "Python 3",
   "language": "python",
   "name": "python3"
  },
  "language_info": {
   "codemirror_mode": {
    "name": "ipython",
    "version": 2
   },
   "file_extension": ".py",
   "mimetype": "text/x-python",
   "name": "python",
   "nbconvert_exporter": "python",
   "pygments_lexer": "ipython2",
   "version": "2.7.6"
  }
 },
 "nbformat": 4,
 "nbformat_minor": 0
}